{
  "cells": [
    {
      "cell_type": "markdown",
      "metadata": {
        "id": "view-in-github",
        "colab_type": "text"
      },
      "source": [
        "<a href=\"https://colab.research.google.com/github/azzahangely/cultour-app/blob/main/chatbot.ipynb\" target=\"_parent\"><img src=\"https://colab.research.google.com/assets/colab-badge.svg\" alt=\"Open In Colab\"/></a>"
      ]
    },
    {
      "cell_type": "code",
      "execution_count": null,
      "metadata": {
        "id": "qnPzVwZ6ZAha"
      },
      "outputs": [],
      "source": [
        "import pandas as pd\n",
        "import numpy as np\n",
        "import tensorflow as tf\n",
        "from tensorflow.keras.preprocessing.text import Tokenizer\n",
        "from tensorflow.keras.preprocessing.sequence import pad_sequences"
      ]
    },
    {
      "cell_type": "code",
      "execution_count": null,
      "metadata": {
        "id": "SRxjQjcZZAhb"
      },
      "outputs": [],
      "source": [
        "dataset = \"https://raw.githubusercontent.com/azzahangely/cultour-app/refs/heads/main/cultural_ins.csv\"\n",
        "data = pd.read_csv(dataset)"
      ]
    },
    {
      "cell_type": "code",
      "execution_count": null,
      "metadata": {
        "colab": {
          "base_uri": "https://localhost:8080/"
        },
        "id": "gB0nwVTBZAhc",
        "outputId": "343c95f2-473c-41a6-af16-f1877f0ad4bd"
      },
      "outputs": [
        {
          "output_type": "stream",
          "name": "stdout",
          "text": [
            "Index(['country', 'province_state_region', 'cultural_norm_etiquette',\n",
            "       'language', 'major_ed', 'major_e_name', 'food_culture',\n",
            "       'important_sites', 'religious_practices', 'taboos'],\n",
            "      dtype='object')\n"
          ]
        }
      ],
      "source": [
        "print(data.columns)"
      ]
    },
    {
      "cell_type": "code",
      "source": [
        "print(data.isnull().sum())"
      ],
      "metadata": {
        "colab": {
          "base_uri": "https://localhost:8080/"
        },
        "id": "jzKghVT0njEs",
        "outputId": "d4254f3c-613c-4e4d-9393-2112aa9b116c"
      },
      "execution_count": null,
      "outputs": [
        {
          "output_type": "stream",
          "name": "stdout",
          "text": [
            "country                     0\n",
            "province_state_region       0\n",
            "cultural_norm_etiquette     0\n",
            "language                    0\n",
            "major_ed                    0\n",
            "major_e_name                0\n",
            "food_culture                0\n",
            "important_sites             0\n",
            "religious_practices         4\n",
            "taboos                     13\n",
            "dtype: int64\n"
          ]
        }
      ]
    },
    {
      "cell_type": "code",
      "source": [
        "unique_countries = data['country'].unique()\n",
        "unique_provinces = data['province_state_region'].unique()\n",
        "\n",
        "print(\"Unique countries:\", unique_countries)\n",
        "print(\"Unique provinces:\", unique_provinces)"
      ],
      "metadata": {
        "colab": {
          "base_uri": "https://localhost:8080/"
        },
        "id": "YKW9rUBeoIEq",
        "outputId": "a6decb00-c187-4c54-f3c3-044a9753ead3"
      },
      "execution_count": null,
      "outputs": [
        {
          "output_type": "stream",
          "name": "stdout",
          "text": [
            "Unique countries: ['Timor-Leste' 'Laos' 'Myanmar' 'Philippines']\n",
            "Unique provinces: ['Aileu' 'Ainaro' 'Baucau' 'Bobonaro' 'Covalima' 'Dili' 'Ermera' 'Lautem'\n",
            " 'Liquiçá' 'Manatuto' 'Manufahi' 'Oecusse' 'Viqueque' 'Atauro' 'Attapeu'\n",
            " 'Bokeo' 'Bolikhamsai' 'Champasak' 'Houaphanh' 'Khammouane' 'Luang Namtha'\n",
            " 'Luang Prabang' 'Oudomxay' 'Phongsaly' 'Savannakhet' 'Salavan' 'Sepon'\n",
            " 'Vientiane' 'Xaisomboun' 'Xayaboury' 'Xieng Khouang' 'Ayeyarwady Region'\n",
            " 'Bago Region' 'Chin State' 'Kachin State' 'Kayin State' 'Kayah State'\n",
            " 'Magway Region' 'Mandalay Region' 'Mon State' 'Rakhine State'\n",
            " 'Sagaing Region' 'Tanintharyi Region' 'Yangon Region' 'Shan State' 'Abra'\n",
            " 'Agusan del Norte' 'Agusan del Sur' 'Aklan' 'Albay' 'Antique' 'Apayao'\n",
            " 'Aurora' 'Basilan' 'Bataan' 'Batanes' 'Batangas' 'Benguet' 'Biliran'\n",
            " 'Bohol' 'Bukidnon' 'Bulacan' 'Cagayan' 'Camarines Norte' 'Camarines Sur'\n",
            " 'Camiguin' 'Capiz' 'Cavite' 'Cebu' 'Compostela Valley (Davao de Oro)'\n",
            " 'Cotabato' 'Davao del Norte' 'Davao del Sur' 'Davao Occidental'\n",
            " 'Davao Oriental' 'Dinagat Islands' 'Eastern Samar' 'Guimaras' 'Ifugao'\n",
            " 'Ilocos Norte' 'Ilocos Sur' 'Iloilo' 'Isabela' 'Kalinga' 'La Union'\n",
            " 'Laguna' 'Lanao del Norte' 'Lanao del Sur' 'Leyte' 'Maguindanao'\n",
            " 'Marinduque' 'Masbate' 'Metro Manila' 'Mountain Province' 'Nueva Ecija'\n",
            " 'Nueva Vizcaya' 'Occidental Mindoro' 'Oriental Mindoro' 'Palawan'\n",
            " 'Pampanga' 'Pangasinan' 'Quezon' 'Quirino' 'Rizal' 'Romblon' 'Samar'\n",
            " 'Sarangani' 'Shariff Kabunsuan' 'Siquijor' 'Sorsogon' 'South Cotabato'\n",
            " 'Southern Leyte' 'Sultan Kudarat' 'Sulu' 'Surigao del Norte'\n",
            " 'Surigao del Sur' 'Tarlac' 'Tawi-Tawi' 'Zambales' 'Zamboanga del Norte'\n",
            " 'Zamboanga del Sur' 'Zamboanga Sibugay']\n"
          ]
        }
      ]
    },
    {
      "cell_type": "code",
      "source": [
        "duplicates = data[data.duplicated()]\n",
        "print(\"Duplicate rows:\")\n",
        "print(duplicates)\n",
        "data = data.drop_duplicates()\n"
      ],
      "metadata": {
        "colab": {
          "base_uri": "https://localhost:8080/"
        },
        "id": "BmDfT9tdo4tG",
        "outputId": "876df2ce-37d8-41e6-98f6-dacb3a03e33d"
      },
      "execution_count": null,
      "outputs": [
        {
          "output_type": "stream",
          "name": "stdout",
          "text": [
            "Duplicate rows:\n",
            "Empty DataFrame\n",
            "Columns: [country, province_state_region, cultural_norm_etiquette, language, major_ed, major_e_name, food_culture, important_sites, religious_practices, taboos]\n",
            "Index: []\n"
          ]
        }
      ]
    },
    {
      "cell_type": "code",
      "source": [
        "data['language'] = data['language'].str.title()"
      ],
      "metadata": {
        "id": "I58HYBOepAUX"
      },
      "execution_count": null,
      "outputs": []
    },
    {
      "cell_type": "code",
      "source": [
        "print(data['major_ed'].head())"
      ],
      "metadata": {
        "colab": {
          "base_uri": "https://localhost:8080/"
        },
        "id": "-fIZqLdrpVA7",
        "outputId": "c7c7265c-fe48-45b7-8c90-3d87b555cccf"
      },
      "execution_count": null,
      "outputs": [
        {
          "output_type": "stream",
          "name": "stdout",
          "text": [
            "0    20/08/2024\n",
            "1    01/05/2024\n",
            "2    15/11/2024\n",
            "3    10/07/2024\n",
            "4    25/12/2024\n",
            "Name: major_ed, dtype: object\n"
          ]
        }
      ]
    },
    {
      "cell_type": "code",
      "source": [
        "print(data['major_ed'].unique())"
      ],
      "metadata": {
        "colab": {
          "base_uri": "https://localhost:8080/"
        },
        "id": "vlgKclYnpdup",
        "outputId": "796c3387-364e-41a6-b76e-e9e1186b2d36"
      },
      "execution_count": null,
      "outputs": [
        {
          "output_type": "stream",
          "name": "stdout",
          "text": [
            "['20/08/2024' '01/05/2024' '15/11/2024' '10/07/2024' '25/12/2024'\n",
            " '20/05/2024' '01/10/2024' '18/04/2024' '30/06/2024' '05/03/2024'\n",
            " '21/09/2024' '15/08/2024' '10/06/2024' '25/09/2024' '01/12/2024'\n",
            " '20/10/2024' '13/04/2024' '02/12/2024' '25/11/2024' '05/12/2024'\n",
            " '20/11/2024' '15/12/2024' '10/12/2024' '17/02/2024' '20/02/2024'\n",
            " '10/01/2024' '31/12/2024' '01/01/2024' 'Thingyan Water Festival'\n",
            " '09/03/2024' '02/08/2024' '17/06/2024' '15/01/2024' '24/06/2024'\n",
            " '14/02/2024' '19/02/2024' '07/03/2024' '09/04/2024' '26/06/2024'\n",
            " '23/02/2024' '11/05/2024' '01/07/2024' '10/03/2024' '15/09/2024'\n",
            " '25/08/2024' '22/04/2024' '18/09/2024' '24/10/2024' '16/01/2024'\n",
            " '23/03/2024' '21/01/2024' '08/06/2024' '31/03/2024' '10/09/2024'\n",
            " '27/10/2024' '17/07/2024' '15/05/2024' '22/05/2024' '28/04/2024'\n",
            " '07/12/2024' '24/01/2024' '02/05/2024' '02/02/2024' '19/09/2024'\n",
            " '14/07/2024' '29/06/2024' '09/12/2024' '29/03/2024' '15/06/2024'\n",
            " '09/01/2024' '27/03/2024' '01/09/2024' '25/04/2024' '19/04/2024'\n",
            " '28/03/2024' '24/12/2024' '17/09/2024' '08/12/2024' '28/11/2024'\n",
            " '19/12/2024' '29/09/2024' '21/06/2024' '11/07/2024' '15/03/2024'\n",
            " '22/11/2024' '19/06/2024' '14/08/2024' '23/05/2024' '16/09/2024']\n"
          ]
        }
      ]
    },
    {
      "cell_type": "code",
      "source": [
        "\n",
        "data['major_ed_normalized'] = pd.to_datetime(data['major_ed'], errors='coerce', dayfirst=True)\n",
        "data['major_ed_normalized'] = data['major_ed_normalized'].dt.strftime('%d/%m/%Y')\n",
        "data['major_ed_normalized'] = data['major_ed_normalized'].fillna('Not Available')\n",
        "\n",
        "print(data)\n"
      ],
      "metadata": {
        "colab": {
          "base_uri": "https://localhost:8080/"
        },
        "id": "xf0COk5dpsin",
        "outputId": "5afc3e33-ba1e-408b-e07e-1d24a58102ed"
      },
      "execution_count": null,
      "outputs": [
        {
          "output_type": "stream",
          "name": "stdout",
          "text": [
            "         country province_state_region  \\\n",
            "0    Timor-Leste                 Aileu   \n",
            "1    Timor-Leste                Ainaro   \n",
            "2    Timor-Leste                Baucau   \n",
            "3    Timor-Leste              Bobonaro   \n",
            "4    Timor-Leste              Covalima   \n",
            "..           ...                   ...   \n",
            "117  Philippines             Tawi-Tawi   \n",
            "118  Philippines              Zambales   \n",
            "119  Philippines   Zamboanga del Norte   \n",
            "120  Philippines     Zamboanga del Sur   \n",
            "121  Philippines     Zamboanga Sibugay   \n",
            "\n",
            "                               cultural_norm_etiquette            language  \\\n",
            "0         Deep respect for elders and local traditions       Tetum, Mambai   \n",
            "1                  Respect for nature and sacred sites       Tetum, Mambai   \n",
            "2                             Emphasis on family bonds      Tetum, Makasae   \n",
            "3                             Hospitality to strangers        Tetum, Kemak   \n",
            "4           Respect for elders and traditional leaders        Tetum, Bunak   \n",
            "..                                                 ...                 ...   \n",
            "117  Respect for Islamic traditions and community ties  Tausug, Sama-Bajau   \n",
            "118         Warm hospitality and beach-focused tourism     Tagalog, Sambal   \n",
            "119                      Generosity and cultural pride  Chavacano, Cebuano   \n",
            "120          Diversity and warmth in family gatherings  Chavacano, Subanen   \n",
            "121       Respect for traditions and eco-tourism focus  Chavacano, Cebuano   \n",
            "\n",
            "       major_ed                         major_e_name  \\\n",
            "0    20/08/2024               Aileu Culture Festival   \n",
            "1    01/05/2024             Mount Ramelau Pilgrimage   \n",
            "2    15/11/2024  Baucau Independence Day Celebration   \n",
            "3    10/07/2024          Marobo Hot Springs Festival   \n",
            "4    25/12/2024                Christmas Boat Parade   \n",
            "..          ...                                  ...   \n",
            "117  21/09/2024                   Agal-Agal Festival   \n",
            "118  25/04/2024             Dinamulag Mango Festival   \n",
            "119  23/05/2024                     Hudyaka Festival   \n",
            "120  16/09/2024                     Megayon Festival   \n",
            "121  01/12/2024                 Sibug-Sibug Festival   \n",
            "\n",
            "                                        food_culture  \\\n",
            "0                               Cassava-based dishes   \n",
            "1                       Corn-based dishes, goat stew   \n",
            "2                Rice with fish, traditional curries   \n",
            "3                       Wild greens, fermented foods   \n",
            "4                    Coconut-infused dishes, seafood   \n",
            "..                                               ...   \n",
            "117            Seaweed-based dishes, seafood curries   \n",
            "118              Mango-based dishes, grilled seafood   \n",
            "119              Curacha (spiced crab), satay dishes   \n",
            "120  Satti (spiced skewered meat), sweet rice snacks   \n",
            "121            Seafood dishes, coconut-based recipes   \n",
            "\n",
            "                                    important_sites  \\\n",
            "0                               Cristo Rei de Aileu   \n",
            "1                                     Mount Ramelau   \n",
            "2                      Venilale caves, Baucau Beach   \n",
            "3                                Marobo Hot Springs   \n",
            "4                 Suai Church, Tais weaving centers   \n",
            "..                                              ...   \n",
            "117      Bongao Peak, Sheik Karim-ul Makhdum Mosque   \n",
            "118                  Anawangin Cove, Mount Pinatubo   \n",
            "119  Dipolog Cathedral, Dakak Park and Beach Resort   \n",
            "120                 Pagadian Rotonda, Mount Timolan   \n",
            "121           Buluan Island, Sibugay Mountain Range   \n",
            "\n",
            "                                religious_practices  \\\n",
            "0                     Catholic with animist rituals   \n",
            "1                Catholic devotion with pilgrimages   \n",
            "2                 Catholicism with local traditions   \n",
            "3                     Catholic with animist rituals   \n",
            "4                   Catholic Christmas celebrations   \n",
            "..                                              ...   \n",
            "117  Predominantly Islam with Sama-Bajau influences   \n",
            "118       Roman Catholicism with coastal traditions   \n",
            "119     Roman Catholicism with Chavacano influences   \n",
            "120       Roman Catholicism with Subanen traditions   \n",
            "121         Roman Catholicism with local traditions   \n",
            "\n",
            "                                                taboos major_ed_normalized  \n",
            "0    Avoid criticizing local customs or interruptin...          20/08/2024  \n",
            "1    Avoid climbing Mount Ramelau without permissio...          01/05/2024  \n",
            "2    Avoid touching sacred items or questioning spi...          15/11/2024  \n",
            "3    Avoid disrupting healing rituals at sacred spr...          10/07/2024  \n",
            "4       Avoid entering homes without formal invitation          25/12/2024  \n",
            "..                                                 ...                 ...  \n",
            "117  Avoid discussing religious differences or offe...          21/09/2024  \n",
            "118          Avoid littering or damaging natural areas          25/04/2024  \n",
            "119  Avoid criticizing local food or cultural pract...          23/05/2024  \n",
            "120  Avoid entering indigenous areas without permis...          16/09/2024  \n",
            "121       Avoid harming marine life in protected areas          01/12/2024  \n",
            "\n",
            "[122 rows x 11 columns]\n"
          ]
        }
      ]
    },
    {
      "cell_type": "code",
      "source": [
        "data.to_csv('sea_cultural_insight.csv', index=False)\n",
        "\n",
        "print(\"Cleaned dataset saved as sea_cultural_insight.csv'\")"
      ],
      "metadata": {
        "colab": {
          "base_uri": "https://localhost:8080/"
        },
        "id": "oAHF5MS9qPxE",
        "outputId": "6afcbda9-d152-4072-e91c-f3c31001e9d4"
      },
      "execution_count": null,
      "outputs": [
        {
          "output_type": "stream",
          "name": "stdout",
          "text": [
            "Cleaned dataset saved as sea_cultural_insight.csv'\n"
          ]
        }
      ]
    },
    {
      "cell_type": "code",
      "source": [
        "data.fillna(\"Not Available\", inplace=True)"
      ],
      "metadata": {
        "id": "iMs8plLWq_aR"
      },
      "execution_count": null,
      "outputs": []
    },
    {
      "cell_type": "code",
      "source": [
        "print(data.describe(include='all'))"
      ],
      "metadata": {
        "colab": {
          "base_uri": "https://localhost:8080/"
        },
        "id": "5yY-ELM3rKvJ",
        "outputId": "48a3de2b-8a2c-42ea-d47c-443d28d6a341"
      },
      "execution_count": null,
      "outputs": [
        {
          "output_type": "stream",
          "name": "stdout",
          "text": [
            "            country province_state_region  \\\n",
            "count           122                   122   \n",
            "unique            4                   122   \n",
            "top     Philippines                 Aileu   \n",
            "freq             77                     1   \n",
            "\n",
            "                              cultural_norm_etiquette language    major_ed  \\\n",
            "count                                             122      122         122   \n",
            "unique                                            113       84          89   \n",
            "top     Hospitality and respect for cultural heritage  Tagalog  13/04/2024   \n",
            "freq                                                3        7          10   \n",
            "\n",
            "                   major_e_name  \\\n",
            "count                       122   \n",
            "unique                      112   \n",
            "top     Thingyan Water Festival   \n",
            "freq                          6   \n",
            "\n",
            "                                           food_culture      important_sites  \\\n",
            "count                                               122                  122   \n",
            "unique                                              117                  122   \n",
            "top     Pinakbet (vegetable stew), bagnet (crispy pork)  Cristo Rei de Aileu   \n",
            "freq                                                  2                    1   \n",
            "\n",
            "                           religious_practices         taboos  \\\n",
            "count                                      122            122   \n",
            "unique                                      89             95   \n",
            "top     Roman Catholicism with local devotions  Not Available   \n",
            "freq                                         9             13   \n",
            "\n",
            "       major_ed_normalized  \n",
            "count                  122  \n",
            "unique                  89  \n",
            "top             13/04/2024  \n",
            "freq                    10  \n"
          ]
        }
      ]
    },
    {
      "cell_type": "code",
      "source": [
        "dataset_fix = \"https://raw.githubusercontent.com/azzahangely/cultour-app/refs/heads/main/sea_cultural_insight.csv\"\n",
        "data = pd.read_csv(dataset_fix)"
      ],
      "metadata": {
        "id": "QhOfdiKPrfwD"
      },
      "execution_count": null,
      "outputs": []
    },
    {
      "cell_type": "code",
      "source": [
        "data['tags'] = data.apply(lambda row: ', '.join(filter(None, [\n",
        "    'etiquette' if pd.notnull(row['cultural_norm_etiquette']) else None,\n",
        "    'language' if pd.notnull(row['language']) else None,\n",
        "    'cuisine' if pd.notnull(row['food_culture']) else None,\n",
        "    'religion' if pd.notnull(row['religious_practices']) else None,\n",
        "    'tourist sites' if pd.notnull(row['important_sites']) else None\n",
        "])), axis=1)"
      ],
      "metadata": {
        "id": "xuY9WlGNsMgk"
      },
      "execution_count": null,
      "outputs": []
    },
    {
      "cell_type": "code",
      "source": [
        "data['relevance_score'] = data[['cultural_norm_etiquette', 'language', 'food_culture']].notnull().sum(axis=1) / 3.0\n",
        "data['region_type'] = data['province_state_region'].apply(lambda x: 'province' if pd.notnull(x) else 'country')\n",
        "data['use_case'] = 'tourism'"
      ],
      "metadata": {
        "id": "lw_XJzZ9skyL"
      },
      "execution_count": null,
      "outputs": []
    },
    {
      "cell_type": "code",
      "source": [
        "metadata_file = 'metadata.csv'\n",
        "data.to_csv(metadata_file, index=False)"
      ],
      "metadata": {
        "id": "GS8j-cbeszzX"
      },
      "execution_count": null,
      "outputs": []
    },
    {
      "cell_type": "code",
      "source": [
        "metadata = pd.read_csv(metadata_file)\n",
        "\n",
        "missing_values = metadata.isnull().sum()\n",
        "print(\"Missing values in each column:\")\n",
        "print(missing_values)\n",
        "\n",
        "duplicates = metadata[metadata.duplicated()]\n",
        "print(\"Duplicate rows:\")\n",
        "print(duplicates)\n",
        "\n",
        "try:\n",
        "    pd.to_datetime(metadata['major_ed_normalized'], format='%d/%m/%Y')\n",
        "    print(\"All dates are in the correct format.\")\n",
        "except Exception as e:\n",
        "    print(f\"Date format issues: {e}\")\n",
        "\n",
        "print(\"Unique tags:\", metadata['tags'].unique())\n",
        "print(\"Unique use cases:\", metadata['use_case'].unique())\n"
      ],
      "metadata": {
        "colab": {
          "base_uri": "https://localhost:8080/"
        },
        "id": "aaH3n3yUtFNw",
        "outputId": "fd3bf89f-0cee-4118-cafd-d1944f78c566"
      },
      "execution_count": null,
      "outputs": [
        {
          "output_type": "stream",
          "name": "stdout",
          "text": [
            "Missing values in each column:\n",
            "country                     0\n",
            "province_state_region       0\n",
            "cultural_norm_etiquette     0\n",
            "language                    0\n",
            "major_ed                    0\n",
            "major_e_name                0\n",
            "food_culture                0\n",
            "important_sites             0\n",
            "religious_practices         4\n",
            "taboos                     13\n",
            "major_ed_normalized         0\n",
            "tags                        0\n",
            "relevance_score             0\n",
            "region_type                 0\n",
            "use_case                    0\n",
            "dtype: int64\n",
            "Duplicate rows:\n",
            "Empty DataFrame\n",
            "Columns: [country, province_state_region, cultural_norm_etiquette, language, major_ed, major_e_name, food_culture, important_sites, religious_practices, taboos, major_ed_normalized, tags, relevance_score, region_type, use_case]\n",
            "Index: []\n",
            "Date format issues: time data \"Not Available\" doesn't match format \"%d/%m/%Y\", at position 37. You might want to try:\n",
            "    - passing `format` if your strings have a consistent format;\n",
            "    - passing `format='ISO8601'` if your strings are all ISO8601 but not necessarily in exactly the same format;\n",
            "    - passing `format='mixed'`, and the format will be inferred for each element individually. You might want to use `dayfirst` alongside this.\n",
            "Unique tags: ['etiquette, language, cuisine, religion, tourist sites'\n",
            " 'etiquette, language, cuisine, tourist sites']\n",
            "Unique use cases: ['tourism']\n"
          ]
        }
      ]
    },
    {
      "cell_type": "code",
      "source": [
        "# query testing\n",
        "\n",
        "\n",
        "def simulate_query(country=None, tag=None):\n",
        "    results = metadata\n",
        "    if country:\n",
        "        results = results[results['country'].str.contains(country, case=False, na=False)]\n",
        "    if tag:\n",
        "        results = results[results['tags'].str.contains(tag, case=False, na=False)]\n",
        "    return results[['country', 'province_state_region', 'tags', 'cultural_norm_etiquette']]\n",
        "\n",
        "print(\"Query: 'Thailand + etiquette'\")\n",
        "print(simulate_query(country='Thailand', tag='etiquette'))\n",
        "\n",
        "print(\"\\nQuery: 'Timor-Leste + cuisine'\")\n",
        "print(simulate_query(country='Timor-Leste', tag='cuisine'))\n"
      ],
      "metadata": {
        "colab": {
          "base_uri": "https://localhost:8080/"
        },
        "id": "rMGjkSxgju_V",
        "outputId": "8b4714a8-c7c1-4416-fd0f-eb6423c1fa88"
      },
      "execution_count": null,
      "outputs": [
        {
          "output_type": "stream",
          "name": "stdout",
          "text": [
            "Query: 'Thailand + etiquette'\n",
            "Empty DataFrame\n",
            "Columns: [country, province_state_region, tags, cultural_norm_etiquette]\n",
            "Index: []\n",
            "\n",
            "Query: 'Timor-Leste + cuisine'\n",
            "        country province_state_region  \\\n",
            "0   Timor-Leste                 Aileu   \n",
            "1   Timor-Leste                Ainaro   \n",
            "2   Timor-Leste                Baucau   \n",
            "3   Timor-Leste              Bobonaro   \n",
            "4   Timor-Leste              Covalima   \n",
            "5   Timor-Leste                  Dili   \n",
            "6   Timor-Leste                Ermera   \n",
            "7   Timor-Leste                Lautem   \n",
            "8   Timor-Leste               Liquiçá   \n",
            "9   Timor-Leste              Manatuto   \n",
            "10  Timor-Leste              Manufahi   \n",
            "11  Timor-Leste               Oecusse   \n",
            "12  Timor-Leste              Viqueque   \n",
            "13  Timor-Leste                Atauro   \n",
            "\n",
            "                                                 tags  \\\n",
            "0   etiquette, language, cuisine, religion, touris...   \n",
            "1   etiquette, language, cuisine, religion, touris...   \n",
            "2   etiquette, language, cuisine, religion, touris...   \n",
            "3   etiquette, language, cuisine, religion, touris...   \n",
            "4   etiquette, language, cuisine, religion, touris...   \n",
            "5   etiquette, language, cuisine, religion, touris...   \n",
            "6   etiquette, language, cuisine, religion, touris...   \n",
            "7   etiquette, language, cuisine, religion, touris...   \n",
            "8   etiquette, language, cuisine, religion, touris...   \n",
            "9   etiquette, language, cuisine, religion, touris...   \n",
            "10  etiquette, language, cuisine, religion, touris...   \n",
            "11  etiquette, language, cuisine, religion, touris...   \n",
            "12  etiquette, language, cuisine, religion, touris...   \n",
            "13  etiquette, language, cuisine, religion, touris...   \n",
            "\n",
            "                         cultural_norm_etiquette  \n",
            "0   Deep respect for elders and local traditions  \n",
            "1            Respect for nature and sacred sites  \n",
            "2                       Emphasis on family bonds  \n",
            "3                       Hospitality to strangers  \n",
            "4     Respect for elders and traditional leaders  \n",
            "5                 Formality in business settings  \n",
            "6      Strong work ethics in farming communities  \n",
            "7     Harmony with nature and respect for elders  \n",
            "8                      Strong sense of community  \n",
            "9                       Respect for local chiefs  \n",
            "10               Preservation of oral traditions  \n",
            "11                    Strong communal traditions  \n",
            "12       High regard for local myths and legends  \n",
            "13                   Strong focus on eco-tourism  \n"
          ]
        }
      ]
    },
    {
      "cell_type": "code",
      "source": [
        "low_relevance_rows = metadata[metadata['relevance_score'] < 0.9]\n",
        "print(\"Rows with low relevance scores:\")\n",
        "print(low_relevance_rows)\n"
      ],
      "metadata": {
        "colab": {
          "base_uri": "https://localhost:8080/"
        },
        "id": "4_6lH2LvkZwN",
        "outputId": "5bd13191-fb12-465c-fcbf-1f8082c379e7"
      },
      "execution_count": null,
      "outputs": [
        {
          "output_type": "stream",
          "name": "stdout",
          "text": [
            "Rows with low relevance scores:\n",
            "Empty DataFrame\n",
            "Columns: [country, province_state_region, cultural_norm_etiquette, language, major_ed, major_e_name, food_culture, important_sites, religious_practices, taboos, major_ed_normalized, tags, relevance_score, region_type, use_case]\n",
            "Index: []\n"
          ]
        }
      ]
    },
    {
      "cell_type": "markdown",
      "source": [
        "# batas suci"
      ],
      "metadata": {
        "id": "nxlOoyVjq_yk"
      }
    },
    {
      "cell_type": "code",
      "source": [
        "!pip install transformers tensorflow"
      ],
      "metadata": {
        "colab": {
          "base_uri": "https://localhost:8080/"
        },
        "id": "XRIjEDBCk7g7",
        "outputId": "b6796c66-214c-4e25-dbd2-2ee86c894051"
      },
      "execution_count": null,
      "outputs": [
        {
          "output_type": "stream",
          "name": "stdout",
          "text": [
            "Requirement already satisfied: transformers in /usr/local/lib/python3.10/dist-packages (4.46.2)\n",
            "Requirement already satisfied: tensorflow in /usr/local/lib/python3.10/dist-packages (2.17.1)\n",
            "Requirement already satisfied: filelock in /usr/local/lib/python3.10/dist-packages (from transformers) (3.16.1)\n",
            "Requirement already satisfied: huggingface-hub<1.0,>=0.23.2 in /usr/local/lib/python3.10/dist-packages (from transformers) (0.26.2)\n",
            "Requirement already satisfied: numpy>=1.17 in /usr/local/lib/python3.10/dist-packages (from transformers) (1.26.4)\n",
            "Requirement already satisfied: packaging>=20.0 in /usr/local/lib/python3.10/dist-packages (from transformers) (24.2)\n",
            "Requirement already satisfied: pyyaml>=5.1 in /usr/local/lib/python3.10/dist-packages (from transformers) (6.0.2)\n",
            "Requirement already satisfied: regex!=2019.12.17 in /usr/local/lib/python3.10/dist-packages (from transformers) (2024.9.11)\n",
            "Requirement already satisfied: requests in /usr/local/lib/python3.10/dist-packages (from transformers) (2.32.3)\n",
            "Requirement already satisfied: safetensors>=0.4.1 in /usr/local/lib/python3.10/dist-packages (from transformers) (0.4.5)\n",
            "Requirement already satisfied: tokenizers<0.21,>=0.20 in /usr/local/lib/python3.10/dist-packages (from transformers) (0.20.3)\n",
            "Requirement already satisfied: tqdm>=4.27 in /usr/local/lib/python3.10/dist-packages (from transformers) (4.66.6)\n",
            "Requirement already satisfied: absl-py>=1.0.0 in /usr/local/lib/python3.10/dist-packages (from tensorflow) (1.4.0)\n",
            "Requirement already satisfied: astunparse>=1.6.0 in /usr/local/lib/python3.10/dist-packages (from tensorflow) (1.6.3)\n",
            "Requirement already satisfied: flatbuffers>=24.3.25 in /usr/local/lib/python3.10/dist-packages (from tensorflow) (24.3.25)\n",
            "Requirement already satisfied: gast!=0.5.0,!=0.5.1,!=0.5.2,>=0.2.1 in /usr/local/lib/python3.10/dist-packages (from tensorflow) (0.6.0)\n",
            "Requirement already satisfied: google-pasta>=0.1.1 in /usr/local/lib/python3.10/dist-packages (from tensorflow) (0.2.0)\n",
            "Requirement already satisfied: h5py>=3.10.0 in /usr/local/lib/python3.10/dist-packages (from tensorflow) (3.12.1)\n",
            "Requirement already satisfied: libclang>=13.0.0 in /usr/local/lib/python3.10/dist-packages (from tensorflow) (18.1.1)\n",
            "Requirement already satisfied: ml-dtypes<0.5.0,>=0.3.1 in /usr/local/lib/python3.10/dist-packages (from tensorflow) (0.4.1)\n",
            "Requirement already satisfied: opt-einsum>=2.3.2 in /usr/local/lib/python3.10/dist-packages (from tensorflow) (3.4.0)\n",
            "Requirement already satisfied: protobuf!=4.21.0,!=4.21.1,!=4.21.2,!=4.21.3,!=4.21.4,!=4.21.5,<5.0.0dev,>=3.20.3 in /usr/local/lib/python3.10/dist-packages (from tensorflow) (4.25.5)\n",
            "Requirement already satisfied: setuptools in /usr/local/lib/python3.10/dist-packages (from tensorflow) (75.1.0)\n",
            "Requirement already satisfied: six>=1.12.0 in /usr/local/lib/python3.10/dist-packages (from tensorflow) (1.16.0)\n",
            "Requirement already satisfied: termcolor>=1.1.0 in /usr/local/lib/python3.10/dist-packages (from tensorflow) (2.5.0)\n",
            "Requirement already satisfied: typing-extensions>=3.6.6 in /usr/local/lib/python3.10/dist-packages (from tensorflow) (4.12.2)\n",
            "Requirement already satisfied: wrapt>=1.11.0 in /usr/local/lib/python3.10/dist-packages (from tensorflow) (1.16.0)\n",
            "Requirement already satisfied: grpcio<2.0,>=1.24.3 in /usr/local/lib/python3.10/dist-packages (from tensorflow) (1.68.0)\n",
            "Requirement already satisfied: tensorboard<2.18,>=2.17 in /usr/local/lib/python3.10/dist-packages (from tensorflow) (2.17.1)\n",
            "Requirement already satisfied: keras>=3.2.0 in /usr/local/lib/python3.10/dist-packages (from tensorflow) (3.5.0)\n",
            "Requirement already satisfied: tensorflow-io-gcs-filesystem>=0.23.1 in /usr/local/lib/python3.10/dist-packages (from tensorflow) (0.37.1)\n",
            "Requirement already satisfied: wheel<1.0,>=0.23.0 in /usr/local/lib/python3.10/dist-packages (from astunparse>=1.6.0->tensorflow) (0.45.0)\n",
            "Requirement already satisfied: fsspec>=2023.5.0 in /usr/local/lib/python3.10/dist-packages (from huggingface-hub<1.0,>=0.23.2->transformers) (2024.10.0)\n",
            "Requirement already satisfied: rich in /usr/local/lib/python3.10/dist-packages (from keras>=3.2.0->tensorflow) (13.9.4)\n",
            "Requirement already satisfied: namex in /usr/local/lib/python3.10/dist-packages (from keras>=3.2.0->tensorflow) (0.0.8)\n",
            "Requirement already satisfied: optree in /usr/local/lib/python3.10/dist-packages (from keras>=3.2.0->tensorflow) (0.13.1)\n",
            "Requirement already satisfied: charset-normalizer<4,>=2 in /usr/local/lib/python3.10/dist-packages (from requests->transformers) (3.4.0)\n",
            "Requirement already satisfied: idna<4,>=2.5 in /usr/local/lib/python3.10/dist-packages (from requests->transformers) (3.10)\n",
            "Requirement already satisfied: urllib3<3,>=1.21.1 in /usr/local/lib/python3.10/dist-packages (from requests->transformers) (2.2.3)\n",
            "Requirement already satisfied: certifi>=2017.4.17 in /usr/local/lib/python3.10/dist-packages (from requests->transformers) (2024.8.30)\n",
            "Requirement already satisfied: markdown>=2.6.8 in /usr/local/lib/python3.10/dist-packages (from tensorboard<2.18,>=2.17->tensorflow) (3.7)\n",
            "Requirement already satisfied: tensorboard-data-server<0.8.0,>=0.7.0 in /usr/local/lib/python3.10/dist-packages (from tensorboard<2.18,>=2.17->tensorflow) (0.7.2)\n",
            "Requirement already satisfied: werkzeug>=1.0.1 in /usr/local/lib/python3.10/dist-packages (from tensorboard<2.18,>=2.17->tensorflow) (3.1.3)\n",
            "Requirement already satisfied: MarkupSafe>=2.1.1 in /usr/local/lib/python3.10/dist-packages (from werkzeug>=1.0.1->tensorboard<2.18,>=2.17->tensorflow) (3.0.2)\n",
            "Requirement already satisfied: markdown-it-py>=2.2.0 in /usr/local/lib/python3.10/dist-packages (from rich->keras>=3.2.0->tensorflow) (3.0.0)\n",
            "Requirement already satisfied: pygments<3.0.0,>=2.13.0 in /usr/local/lib/python3.10/dist-packages (from rich->keras>=3.2.0->tensorflow) (2.18.0)\n",
            "Requirement already satisfied: mdurl~=0.1 in /usr/local/lib/python3.10/dist-packages (from markdown-it-py>=2.2.0->rich->keras>=3.2.0->tensorflow) (0.1.2)\n"
          ]
        }
      ]
    },
    {
      "cell_type": "code",
      "source": [
        "from transformers import TFAutoModel, AutoTokenizer\n",
        "\n",
        "# Use a TensorFlow-compatible model\n",
        "model_name = \"sentence-transformers/distiluse-base-multilingual-cased-v2\"\n",
        "tokenizer = AutoTokenizer.from_pretrained(model_name)\n",
        "tf_model = TFAutoModel.from_pretrained(model_name)\n",
        "\n",
        "print(\"Model and tokenizer successfully loaded!\")\n"
      ],
      "metadata": {
        "colab": {
          "base_uri": "https://localhost:8080/",
          "height": 316,
          "referenced_widgets": [
            "28c69055084d4547bf8dad2e5b19a5d8",
            "c6cad2f4e45442d4823538dd738b55e3",
            "d8ddd2633d7545a782ecbcf06d1a0c3e",
            "7cef1798342243a39f9124da5524c3c7",
            "10ddd1a656214041bd8f256bce0d0b99",
            "cc98d14e32d24544986613dd4d46ab83",
            "528a6d29bbe14c128b30d8928b27e7c1",
            "b944a855b47f4ed0ab68fc025bffe021",
            "473cef29689b4e0ab5d0419bf5149cd9",
            "91834a70c8554fc3ace73575b79d74d2",
            "2863d879274e4172be8a727f60fc35f0",
            "e4667d4438134329b16768263c2c2e72",
            "4151b13f319a46a882963227a0fd504a",
            "e00f450b55a540d6b4117b524fc33903",
            "a2811430ebb940d88af7a39d7511a0b0",
            "afede56636d34f189974624e12a4ce1e",
            "6cdbd9c3d4184a0f80d65687dacdb866",
            "36fa9f86cecd4401887696944f6cef6a",
            "c033869d84a247108803277dae3f7a7e",
            "a893145e794d4a8fb7f82562e5e2c7d0",
            "536fde1cc2af4452a205f16202ba2529",
            "6003bb6d7cd041f99bcc8b49c7a50984",
            "863b1cd962b9449a988a510784de003d",
            "1c8c733bc0224a1ca2beb94ce78de29a",
            "d5b7c2bae55a44218bbe8a197f024047",
            "478984c15c07476a994750a59d96cd93",
            "1b4a31ff12ed4f83be283650f33969a3",
            "26aed88cd0a948d1b380f6521e24e053",
            "3b3e7fee8cb049a99d42ee9291090345",
            "61eb0b02c63b4f7f86a7942a7c76f56f",
            "dd8827aa162847cb87a663f2a1d3b3cd",
            "ac60543e741743f3b31db584998d8b2f",
            "3ac6b7f825a84647af81f12fcc911404",
            "06ec53700fc948e385d149cac3907f73",
            "fc08c39b93474e07a6112d52a9d11c15",
            "38f4379da0f54c868a036991cbc2956c",
            "dcbedaf040084b2fb947b9b7fcef0e6a",
            "3e301d76144547d3aa2dfcd8de340ccc",
            "3ad4e320fa454b43914aa7d819b326cd",
            "de53127722d34de7ba8f11aa929046c4",
            "ba250a427947448eaa0699b980626b7f",
            "ef8e5f4bbf524837b47562b1393c054d",
            "2ca60c6ccb72457696ecafc8437c6b36",
            "5a132c54eff54e19ab0b31378e4eab21",
            "23585d09eeee47a48d02badeff281ae0",
            "96160a8f80694401bd7842107875b939",
            "3678af90a553479b945132988e029ade",
            "6bd512a53f214968813c779d1ea1cf44",
            "3d393546d8e940b1853d88160c27f6c9",
            "6d5de0779ea9463089fed0ac1bb107d5",
            "4d39d6e338cb4eaf9fa5026a6544cbc0",
            "d10f71c7167742c6b9e2d03ac287a240",
            "d08118ae03e8438d86feba1feea92158",
            "88b0cea68bc840198bd02825a94d48bf",
            "e8bbeec88e3c4f5e9ca16be702da2dcb",
            "f639879c54ca42089ac59f4e52319113",
            "11eba6a66bb64d5caa5d93ac2a68d739",
            "ad48eb85c3344693bdb86d5b9945b3ba",
            "4b80d0e913324234886e343c9693a4da",
            "398f1416743341c6bf878e81e2f384ee",
            "7a68017a4db14cfbb4c062f4f511ae7a",
            "725fe611c9c5486cad416f355b4a5daf",
            "b380a0f2abcb4faaa863a53989672845",
            "b13eec763dcb4e81a6d1431e913f8941",
            "7d6b9bc67f334db69775a6cfbdb56e91",
            "01142be452e34f1ab3f2d66d98156241"
          ]
        },
        "id": "9bkAAlmNlUwG",
        "outputId": "397e12a5-7c64-4da5-9a93-89691519fb04"
      },
      "execution_count": null,
      "outputs": [
        {
          "output_type": "display_data",
          "data": {
            "text/plain": [
              "tokenizer_config.json:   0%|          | 0.00/531 [00:00<?, ?B/s]"
            ],
            "application/vnd.jupyter.widget-view+json": {
              "version_major": 2,
              "version_minor": 0,
              "model_id": "28c69055084d4547bf8dad2e5b19a5d8"
            }
          },
          "metadata": {}
        },
        {
          "output_type": "display_data",
          "data": {
            "text/plain": [
              "config.json:   0%|          | 0.00/610 [00:00<?, ?B/s]"
            ],
            "application/vnd.jupyter.widget-view+json": {
              "version_major": 2,
              "version_minor": 0,
              "model_id": "e4667d4438134329b16768263c2c2e72"
            }
          },
          "metadata": {}
        },
        {
          "output_type": "display_data",
          "data": {
            "text/plain": [
              "vocab.txt:   0%|          | 0.00/996k [00:00<?, ?B/s]"
            ],
            "application/vnd.jupyter.widget-view+json": {
              "version_major": 2,
              "version_minor": 0,
              "model_id": "863b1cd962b9449a988a510784de003d"
            }
          },
          "metadata": {}
        },
        {
          "output_type": "display_data",
          "data": {
            "text/plain": [
              "tokenizer.json:   0%|          | 0.00/1.96M [00:00<?, ?B/s]"
            ],
            "application/vnd.jupyter.widget-view+json": {
              "version_major": 2,
              "version_minor": 0,
              "model_id": "06ec53700fc948e385d149cac3907f73"
            }
          },
          "metadata": {}
        },
        {
          "output_type": "display_data",
          "data": {
            "text/plain": [
              "special_tokens_map.json:   0%|          | 0.00/112 [00:00<?, ?B/s]"
            ],
            "application/vnd.jupyter.widget-view+json": {
              "version_major": 2,
              "version_minor": 0,
              "model_id": "23585d09eeee47a48d02badeff281ae0"
            }
          },
          "metadata": {}
        },
        {
          "output_type": "display_data",
          "data": {
            "text/plain": [
              "model.safetensors:   0%|          | 0.00/539M [00:00<?, ?B/s]"
            ],
            "application/vnd.jupyter.widget-view+json": {
              "version_major": 2,
              "version_minor": 0,
              "model_id": "f639879c54ca42089ac59f4e52319113"
            }
          },
          "metadata": {}
        },
        {
          "output_type": "stream",
          "name": "stderr",
          "text": [
            "All PyTorch model weights were used when initializing TFDistilBertModel.\n",
            "\n",
            "All the weights of TFDistilBertModel were initialized from the PyTorch model.\n",
            "If your task is similar to the task the model of the checkpoint was trained on, you can already use TFDistilBertModel for predictions without further training.\n"
          ]
        },
        {
          "output_type": "stream",
          "name": "stdout",
          "text": [
            "Model and tokenizer successfully loaded!\n"
          ]
        }
      ]
    },
    {
      "cell_type": "code",
      "source": [
        "metadata['embedding_text'] = metadata.apply(\n",
        "    lambda row: f\"Country: {row['country']}. Province: {row['province_state_region']}. \"\n",
        "                f\"Etiquette: {row['cultural_norm_etiquette']}. Food: {row['food_culture']}. \"\n",
        "                f\"Sites: {row['important_sites']}.\", axis=1\n",
        ")\n"
      ],
      "metadata": {
        "id": "UoRRus3lljl7"
      },
      "execution_count": null,
      "outputs": []
    },
    {
      "cell_type": "code",
      "source": [
        "metadata['embedding_text'] = metadata.apply(\n",
        "    lambda row: f\"Country: {row['country']}. Province: {row['province_state_region']}. \"\n",
        "                f\"Etiquette: {row['cultural_norm_etiquette']}. Food: {row['food_culture']}. \"\n",
        "                f\"Sites: {row['important_sites']}.\", axis=1\n",
        ")\n",
        "\n",
        "print(metadata['embedding_text'].head())\n"
      ],
      "metadata": {
        "colab": {
          "base_uri": "https://localhost:8080/"
        },
        "id": "oa3y1tFEnWHa",
        "outputId": "36032ddd-3d2b-4e94-8723-893e1ae2a184"
      },
      "execution_count": null,
      "outputs": [
        {
          "output_type": "stream",
          "name": "stdout",
          "text": [
            "0    Country: Timor-Leste. Province: Aileu. Etiquet...\n",
            "1    Country: Timor-Leste. Province: Ainaro. Etique...\n",
            "2    Country: Timor-Leste. Province: Baucau. Etique...\n",
            "3    Country: Timor-Leste. Province: Bobonaro. Etiq...\n",
            "4    Country: Timor-Leste. Province: Covalima. Etiq...\n",
            "Name: embedding_text, dtype: object\n"
          ]
        }
      ]
    },
    {
      "cell_type": "code",
      "source": [
        "def generate_embeddings(sentences):\n",
        "    inputs = tokenizer(sentences, padding=True, truncation=True, return_tensors=\"tf\")\n",
        "    outputs = tf_model(**inputs)\n",
        "    cls_embeddings = outputs.last_hidden_state[:, 0, :]\n",
        "    return cls_embeddings.numpy()\n",
        "\n",
        "sentences = metadata['embedding_text'].tolist()\n",
        "batch_size = 32\n",
        "embeddings = []\n",
        "\n",
        "for i in range(0, len(sentences), batch_size):\n",
        "    batch_sentences = sentences[i:i+batch_size]\n",
        "    batch_embeddings = generate_embeddings(batch_sentences)\n",
        "    embeddings.extend(batch_embeddings)\n",
        "\n",
        "embeddings = np.array(embeddings)\n",
        "print(\"Embeddings shape:\", embeddings.shape)\n",
        "\n",
        "metadata['embeddings'] = embeddings.tolist()\n"
      ],
      "metadata": {
        "colab": {
          "base_uri": "https://localhost:8080/"
        },
        "id": "fOh64Kjgrfql",
        "outputId": "4dad7800-9dd0-4d25-a12b-540a9a95deea"
      },
      "execution_count": null,
      "outputs": [
        {
          "output_type": "stream",
          "name": "stdout",
          "text": [
            "Embeddings shape: (122, 768)\n"
          ]
        }
      ]
    },
    {
      "cell_type": "code",
      "source": [
        "metadata.to_csv(\"data_metadata_tf.csv\", index=False)\n",
        "print(\"Dataset with embeddings saved as 'data_metadata_tf.csv'.\")\n"
      ],
      "metadata": {
        "colab": {
          "base_uri": "https://localhost:8080/"
        },
        "id": "Gkzci-x5r_dj",
        "outputId": "85ec3ba8-91fe-450d-ef58-22388d43ed52"
      },
      "execution_count": null,
      "outputs": [
        {
          "output_type": "stream",
          "name": "stdout",
          "text": [
            "Dataset with embeddings saved as 'data_metadata_tf.csv'.\n"
          ]
        }
      ]
    },
    {
      "cell_type": "code",
      "source": [
        "!pip install pinecone-client\n"
      ],
      "metadata": {
        "colab": {
          "base_uri": "https://localhost:8080/"
        },
        "id": "00G8oofesks9",
        "outputId": "5994e8c0-cf9b-4efd-9d7b-bb5da0601a99"
      },
      "execution_count": null,
      "outputs": [
        {
          "output_type": "stream",
          "name": "stdout",
          "text": [
            "Collecting pinecone-client\n",
            "  Downloading pinecone_client-5.0.1-py3-none-any.whl.metadata (19 kB)\n",
            "Requirement already satisfied: certifi>=2019.11.17 in /usr/local/lib/python3.10/dist-packages (from pinecone-client) (2024.8.30)\n",
            "Collecting pinecone-plugin-inference<2.0.0,>=1.0.3 (from pinecone-client)\n",
            "  Downloading pinecone_plugin_inference-1.1.0-py3-none-any.whl.metadata (2.2 kB)\n",
            "Collecting pinecone-plugin-interface<0.0.8,>=0.0.7 (from pinecone-client)\n",
            "  Downloading pinecone_plugin_interface-0.0.7-py3-none-any.whl.metadata (1.2 kB)\n",
            "Requirement already satisfied: tqdm>=4.64.1 in /usr/local/lib/python3.10/dist-packages (from pinecone-client) (4.66.6)\n",
            "Requirement already satisfied: typing-extensions>=3.7.4 in /usr/local/lib/python3.10/dist-packages (from pinecone-client) (4.12.2)\n",
            "Requirement already satisfied: urllib3>=1.26.0 in /usr/local/lib/python3.10/dist-packages (from pinecone-client) (2.2.3)\n",
            "Downloading pinecone_client-5.0.1-py3-none-any.whl (244 kB)\n",
            "\u001b[2K   \u001b[90m━━━━━━━━━━━━━━━━━━━━━━━━━━━━━━━━━━━━━━━━\u001b[0m \u001b[32m244.8/244.8 kB\u001b[0m \u001b[31m8.7 MB/s\u001b[0m eta \u001b[36m0:00:00\u001b[0m\n",
            "\u001b[?25hDownloading pinecone_plugin_inference-1.1.0-py3-none-any.whl (85 kB)\n",
            "\u001b[2K   \u001b[90m━━━━━━━━━━━━━━━━━━━━━━━━━━━━━━━━━━━━━━━━\u001b[0m \u001b[32m85.4/85.4 kB\u001b[0m \u001b[31m8.0 MB/s\u001b[0m eta \u001b[36m0:00:00\u001b[0m\n",
            "\u001b[?25hDownloading pinecone_plugin_interface-0.0.7-py3-none-any.whl (6.2 kB)\n",
            "Installing collected packages: pinecone-plugin-interface, pinecone-plugin-inference, pinecone-client\n",
            "Successfully installed pinecone-client-5.0.1 pinecone-plugin-inference-1.1.0 pinecone-plugin-interface-0.0.7\n"
          ]
        }
      ]
    },
    {
      "cell_type": "code",
      "source": [
        "from pinecone import Pinecone, ServerlessSpec\n",
        "\n",
        "pc = Pinecone(\n",
        "    api_key=\"pcsk_5dUkk6_C9U9wDrh339aAZwzekpGVKHHGU2Zsq4FGSPCvo5FWhShFJ67oQg5yxPF4WgvmfH\"\n",
        ")\n",
        "\n",
        "print(\"Pinecone initialized successfully!\")\n"
      ],
      "metadata": {
        "colab": {
          "base_uri": "https://localhost:8080/"
        },
        "id": "zmoi4RO9tJWZ",
        "outputId": "f2436f7d-0c17-4850-fe59-4c33f211a0fa"
      },
      "execution_count": null,
      "outputs": [
        {
          "output_type": "stream",
          "name": "stdout",
          "text": [
            "Pinecone initialized successfully!\n"
          ]
        }
      ]
    },
    {
      "cell_type": "code",
      "source": [
        "# creating index from code (not console)\n",
        "\n",
        "index_name = \"cultural-insights\"\n",
        "embedding_dim = 768\n",
        "\n",
        "if index_name not in pc.list_indexes().names():\n",
        "    pc.create_index(\n",
        "        name=index_name,\n",
        "        dimension=embedding_dim,\n",
        "        metric=\"cosine\",\n",
        "        spec=ServerlessSpec(\n",
        "            cloud=\"aws\",\n",
        "            region=\"us-east-1\"\n",
        "        )\n",
        "    )\n",
        "    print(f\"Index '{index_name}' created successfully!\")\n",
        "\n",
        "# Connect to the index\n",
        "index = pc.Index(index_name)\n",
        "print(f\"Connected to Pinecone index: {index_name}\")"
      ],
      "metadata": {
        "colab": {
          "base_uri": "https://localhost:8080/"
        },
        "id": "l4oDiUuBvPc3",
        "outputId": "820dcd08-d76c-4867-81e5-9cd04035f6c6"
      },
      "execution_count": null,
      "outputs": [
        {
          "output_type": "stream",
          "name": "stdout",
          "text": [
            "Connected to Pinecone index: cultural-insights\n"
          ]
        }
      ]
    },
    {
      "cell_type": "code",
      "source": [
        "data_insert = [\n",
        "    (\n",
        "        str(i),\n",
        "        embeddings[i].tolist(),\n",
        "        {\n",
        "            \"country\": metadata.iloc[i][\"country\"],\n",
        "            \"tags\": metadata.iloc[i][\"tags\"]\n",
        "        }\n",
        "    )\n",
        "    for i in range(len(metadata))\n",
        "]\n",
        "\n",
        "index.upsert(data_insert)\n",
        "print(\"Embeddings and metadata uploaded to Pinecone!\")"
      ],
      "metadata": {
        "colab": {
          "base_uri": "https://localhost:8080/"
        },
        "id": "xYrRUNKVv4sS",
        "outputId": "4367bc30-94c0-4db0-d0f5-830d2abd17aa"
      },
      "execution_count": null,
      "outputs": [
        {
          "output_type": "stream",
          "name": "stdout",
          "text": [
            "Embeddings and metadata uploaded to Pinecone!\n"
          ]
        }
      ]
    },
    {
      "cell_type": "code",
      "source": [
        "# Generate embedding for the query\n",
        "user_query = \"What is the etiquette in Timor-Leste?\"\n",
        "query_embedding = generate_embeddings([user_query])[0]  # Generate embedding for query\n",
        "\n",
        "# Perform the query\n",
        "results = index.query(\n",
        "    vector=query_embedding.tolist(),\n",
        "    top_k=3,  # Number of top results to return\n",
        "    include_metadata=True  # Include metadata in results\n",
        ")\n",
        "\n",
        "# Display the results\n",
        "for match in results[\"matches\"]:\n",
        "    print(f\"Score: {match['score']}, Metadata: {match['metadata']}\")\n"
      ],
      "metadata": {
        "colab": {
          "base_uri": "https://localhost:8080/"
        },
        "id": "xw0wB0yPvPVi",
        "outputId": "041d6c7b-fdc6-4d28-b7e8-d1f119a1be72"
      },
      "execution_count": null,
      "outputs": [
        {
          "output_type": "stream",
          "name": "stdout",
          "text": [
            "Score: 0.348427534, Metadata: {'country': 'Timor-Leste', 'tags': 'etiquette, language, cuisine, religion, tourist sites'}\n",
            "Score: 0.328592062, Metadata: {'country': 'Timor-Leste', 'tags': 'etiquette, language, cuisine, religion, tourist sites'}\n",
            "Score: 0.319233775, Metadata: {'country': 'Timor-Leste', 'tags': 'etiquette, language, cuisine, religion, tourist sites'}\n"
          ]
        }
      ]
    },
    {
      "cell_type": "code",
      "source": [
        "stats = index.describe_index_stats()\n",
        "print(stats)\n"
      ],
      "metadata": {
        "colab": {
          "base_uri": "https://localhost:8080/"
        },
        "id": "E2ds6uRhyOHB",
        "outputId": "96015fd8-056e-4ade-9c66-44a231b8ba6f"
      },
      "execution_count": null,
      "outputs": [
        {
          "output_type": "stream",
          "name": "stdout",
          "text": [
            "{'dimension': 768,\n",
            " 'index_fullness': 0.0,\n",
            " 'namespaces': {'': {'vector_count': 122}},\n",
            " 'total_vector_count': 122}\n"
          ]
        }
      ]
    },
    {
      "cell_type": "markdown",
      "source": [
        "## integrate index"
      ],
      "metadata": {
        "id": "agQCC_Uny90X"
      }
    },
    {
      "cell_type": "code",
      "source": [
        "def query_pinecone(user_query, model, tokenizer, index, top_k=3):\n",
        "    \"\"\"\n",
        "    Query Pinecone index to retrieve the most relevant results for a user query.\n",
        "\n",
        "    Args:\n",
        "    - user_query: The user's input text.\n",
        "    - model: The embedding model.\n",
        "    - tokenizer: The tokenizer for the embedding model.\n",
        "    - index: Pinecone index object.\n",
        "    - top_k: Number of top results to retrieve.\n",
        "\n",
        "    Returns:\n",
        "    - A list of dictionaries containing scores and metadata for the results.\n",
        "    \"\"\"\n",
        "    inputs = tokenizer(user_query, padding=True, truncation=True, return_tensors=\"tf\")\n",
        "    outputs = model(**inputs)\n",
        "    query_embedding = outputs.last_hidden_state[:, 0, :].numpy()[0]  # Use the CLS token's embedding\n",
        "\n",
        "    results = index.query(\n",
        "        vector=query_embedding.tolist(),\n",
        "        top_k=top_k,\n",
        "        include_metadata=True\n",
        "    )\n",
        "\n",
        "    contexts = [\n",
        "        {\n",
        "            \"score\": match[\"score\"],\n",
        "            \"metadata\": match[\"metadata\"]\n",
        "        }\n",
        "        for match in results[\"matches\"]\n",
        "    ]\n",
        "    return contexts\n",
        "\n",
        "user_query = \"What is the etiquette in Timor-Leste?\"\n",
        "contexts = query_pinecone(user_query, tf_model, tokenizer, index)\n",
        "print(\"Retrieved Contexts:\", contexts)\n"
      ],
      "metadata": {
        "colab": {
          "base_uri": "https://localhost:8080/"
        },
        "id": "KAQ3neTAyQ16",
        "outputId": "5b077966-0b0f-4fd8-8ce9-c427dc81f0d6"
      },
      "execution_count": null,
      "outputs": [
        {
          "output_type": "stream",
          "name": "stdout",
          "text": [
            "Retrieved Contexts: [{'score': 0.348427534, 'metadata': {'country': 'Timor-Leste', 'tags': 'etiquette, language, cuisine, religion, tourist sites'}}, {'score': 0.328592062, 'metadata': {'country': 'Timor-Leste', 'tags': 'etiquette, language, cuisine, religion, tourist sites'}}, {'score': 0.319233775, 'metadata': {'country': 'Timor-Leste', 'tags': 'etiquette, language, cuisine, religion, tourist sites'}}]\n"
          ]
        }
      ]
    },
    {
      "cell_type": "code",
      "source": [
        "def process_results(contexts):\n",
        "    \"\"\"\n",
        "    Process Pinecone results for chatbot integration.\n",
        "\n",
        "    Args:\n",
        "    - contexts: List of retrieved contexts from Pinecone.\n",
        "\n",
        "    Returns:\n",
        "    - A formatted string containing context information.\n",
        "    \"\"\"\n",
        "    context_texts = []\n",
        "    for ctx in contexts:\n",
        "        metadata = ctx['metadata']\n",
        "        context_texts.append(f\"Country: {metadata['country']}, Tags: {metadata['tags']}\")\n",
        "\n",
        "    return \"\\n\".join(context_texts)\n",
        "\n",
        "context_text = process_results(contexts)\n",
        "print(\"Formatted Context:\\n\", context_text)\n"
      ],
      "metadata": {
        "colab": {
          "base_uri": "https://localhost:8080/"
        },
        "id": "DlXQlK72zwgn",
        "outputId": "314adfb0-dbb2-4ba4-b877-f24aab98cae5"
      },
      "execution_count": null,
      "outputs": [
        {
          "output_type": "stream",
          "name": "stdout",
          "text": [
            "Formatted Context:\n",
            " Country: Timor-Leste, Tags: etiquette, language, cuisine, religion, tourist sites\n",
            "Country: Timor-Leste, Tags: etiquette, language, cuisine, religion, tourist sites\n",
            "Country: Timor-Leste, Tags: etiquette, language, cuisine, religion, tourist sites\n"
          ]
        }
      ]
    },
    {
      "cell_type": "markdown",
      "source": [
        "### BELOM JADI\n",
        "\n"
      ],
      "metadata": {
        "id": "9lbxL_or0VTa"
      }
    },
    {
      "cell_type": "code",
      "source": [
        "\n",
        "\n",
        "def generate_response(user_query, contexts):\n",
        "    context_text = \"\\n\".join([\n",
        "        f\"Metadata: {ctx['metadata']}\" for ctx in contexts\n",
        "    ])\n",
        "    prompt = f\"\"\"\n",
        "    You are a cultural assistant chatbot. Answer the user's question based on the context below:\n",
        "\n",
        "    Context:\n",
        "    {context_text}\n",
        "\n",
        "    Question:\n",
        "    {user_query}\n",
        "    \"\"\"\n",
        "\n",
        "    response = llm(prompt)\n",
        "\n",
        "response = generate_response(user_query, contexts)\n",
        "print(\"Response:\", response)\n"
      ],
      "metadata": {
        "id": "z8OZ090czM2y"
      },
      "execution_count": null,
      "outputs": []
    }
  ],
  "metadata": {
    "kernelspec": {
      "display_name": "venv",
      "language": "python",
      "name": "python3"
    },
    "language_info": {
      "codemirror_mode": {
        "name": "ipython",
        "version": 3
      },
      "file_extension": ".py",
      "mimetype": "text/x-python",
      "name": "python",
      "nbconvert_exporter": "python",
      "pygments_lexer": "ipython3",
      "version": "3.12.4"
    },
    "colab": {
      "provenance": [],
      "collapsed_sections": [
        "9lbxL_or0VTa"
      ],
      "include_colab_link": true
    },
    "widgets": {
      "application/vnd.jupyter.widget-state+json": {
        "28c69055084d4547bf8dad2e5b19a5d8": {
          "model_module": "@jupyter-widgets/controls",
          "model_name": "HBoxModel",
          "model_module_version": "1.5.0",
          "state": {
            "_dom_classes": [],
            "_model_module": "@jupyter-widgets/controls",
            "_model_module_version": "1.5.0",
            "_model_name": "HBoxModel",
            "_view_count": null,
            "_view_module": "@jupyter-widgets/controls",
            "_view_module_version": "1.5.0",
            "_view_name": "HBoxView",
            "box_style": "",
            "children": [
              "IPY_MODEL_c6cad2f4e45442d4823538dd738b55e3",
              "IPY_MODEL_d8ddd2633d7545a782ecbcf06d1a0c3e",
              "IPY_MODEL_7cef1798342243a39f9124da5524c3c7"
            ],
            "layout": "IPY_MODEL_10ddd1a656214041bd8f256bce0d0b99"
          }
        },
        "c6cad2f4e45442d4823538dd738b55e3": {
          "model_module": "@jupyter-widgets/controls",
          "model_name": "HTMLModel",
          "model_module_version": "1.5.0",
          "state": {
            "_dom_classes": [],
            "_model_module": "@jupyter-widgets/controls",
            "_model_module_version": "1.5.0",
            "_model_name": "HTMLModel",
            "_view_count": null,
            "_view_module": "@jupyter-widgets/controls",
            "_view_module_version": "1.5.0",
            "_view_name": "HTMLView",
            "description": "",
            "description_tooltip": null,
            "layout": "IPY_MODEL_cc98d14e32d24544986613dd4d46ab83",
            "placeholder": "​",
            "style": "IPY_MODEL_528a6d29bbe14c128b30d8928b27e7c1",
            "value": "tokenizer_config.json: 100%"
          }
        },
        "d8ddd2633d7545a782ecbcf06d1a0c3e": {
          "model_module": "@jupyter-widgets/controls",
          "model_name": "FloatProgressModel",
          "model_module_version": "1.5.0",
          "state": {
            "_dom_classes": [],
            "_model_module": "@jupyter-widgets/controls",
            "_model_module_version": "1.5.0",
            "_model_name": "FloatProgressModel",
            "_view_count": null,
            "_view_module": "@jupyter-widgets/controls",
            "_view_module_version": "1.5.0",
            "_view_name": "ProgressView",
            "bar_style": "success",
            "description": "",
            "description_tooltip": null,
            "layout": "IPY_MODEL_b944a855b47f4ed0ab68fc025bffe021",
            "max": 531,
            "min": 0,
            "orientation": "horizontal",
            "style": "IPY_MODEL_473cef29689b4e0ab5d0419bf5149cd9",
            "value": 531
          }
        },
        "7cef1798342243a39f9124da5524c3c7": {
          "model_module": "@jupyter-widgets/controls",
          "model_name": "HTMLModel",
          "model_module_version": "1.5.0",
          "state": {
            "_dom_classes": [],
            "_model_module": "@jupyter-widgets/controls",
            "_model_module_version": "1.5.0",
            "_model_name": "HTMLModel",
            "_view_count": null,
            "_view_module": "@jupyter-widgets/controls",
            "_view_module_version": "1.5.0",
            "_view_name": "HTMLView",
            "description": "",
            "description_tooltip": null,
            "layout": "IPY_MODEL_91834a70c8554fc3ace73575b79d74d2",
            "placeholder": "​",
            "style": "IPY_MODEL_2863d879274e4172be8a727f60fc35f0",
            "value": " 531/531 [00:00&lt;00:00, 9.62kB/s]"
          }
        },
        "10ddd1a656214041bd8f256bce0d0b99": {
          "model_module": "@jupyter-widgets/base",
          "model_name": "LayoutModel",
          "model_module_version": "1.2.0",
          "state": {
            "_model_module": "@jupyter-widgets/base",
            "_model_module_version": "1.2.0",
            "_model_name": "LayoutModel",
            "_view_count": null,
            "_view_module": "@jupyter-widgets/base",
            "_view_module_version": "1.2.0",
            "_view_name": "LayoutView",
            "align_content": null,
            "align_items": null,
            "align_self": null,
            "border": null,
            "bottom": null,
            "display": null,
            "flex": null,
            "flex_flow": null,
            "grid_area": null,
            "grid_auto_columns": null,
            "grid_auto_flow": null,
            "grid_auto_rows": null,
            "grid_column": null,
            "grid_gap": null,
            "grid_row": null,
            "grid_template_areas": null,
            "grid_template_columns": null,
            "grid_template_rows": null,
            "height": null,
            "justify_content": null,
            "justify_items": null,
            "left": null,
            "margin": null,
            "max_height": null,
            "max_width": null,
            "min_height": null,
            "min_width": null,
            "object_fit": null,
            "object_position": null,
            "order": null,
            "overflow": null,
            "overflow_x": null,
            "overflow_y": null,
            "padding": null,
            "right": null,
            "top": null,
            "visibility": null,
            "width": null
          }
        },
        "cc98d14e32d24544986613dd4d46ab83": {
          "model_module": "@jupyter-widgets/base",
          "model_name": "LayoutModel",
          "model_module_version": "1.2.0",
          "state": {
            "_model_module": "@jupyter-widgets/base",
            "_model_module_version": "1.2.0",
            "_model_name": "LayoutModel",
            "_view_count": null,
            "_view_module": "@jupyter-widgets/base",
            "_view_module_version": "1.2.0",
            "_view_name": "LayoutView",
            "align_content": null,
            "align_items": null,
            "align_self": null,
            "border": null,
            "bottom": null,
            "display": null,
            "flex": null,
            "flex_flow": null,
            "grid_area": null,
            "grid_auto_columns": null,
            "grid_auto_flow": null,
            "grid_auto_rows": null,
            "grid_column": null,
            "grid_gap": null,
            "grid_row": null,
            "grid_template_areas": null,
            "grid_template_columns": null,
            "grid_template_rows": null,
            "height": null,
            "justify_content": null,
            "justify_items": null,
            "left": null,
            "margin": null,
            "max_height": null,
            "max_width": null,
            "min_height": null,
            "min_width": null,
            "object_fit": null,
            "object_position": null,
            "order": null,
            "overflow": null,
            "overflow_x": null,
            "overflow_y": null,
            "padding": null,
            "right": null,
            "top": null,
            "visibility": null,
            "width": null
          }
        },
        "528a6d29bbe14c128b30d8928b27e7c1": {
          "model_module": "@jupyter-widgets/controls",
          "model_name": "DescriptionStyleModel",
          "model_module_version": "1.5.0",
          "state": {
            "_model_module": "@jupyter-widgets/controls",
            "_model_module_version": "1.5.0",
            "_model_name": "DescriptionStyleModel",
            "_view_count": null,
            "_view_module": "@jupyter-widgets/base",
            "_view_module_version": "1.2.0",
            "_view_name": "StyleView",
            "description_width": ""
          }
        },
        "b944a855b47f4ed0ab68fc025bffe021": {
          "model_module": "@jupyter-widgets/base",
          "model_name": "LayoutModel",
          "model_module_version": "1.2.0",
          "state": {
            "_model_module": "@jupyter-widgets/base",
            "_model_module_version": "1.2.0",
            "_model_name": "LayoutModel",
            "_view_count": null,
            "_view_module": "@jupyter-widgets/base",
            "_view_module_version": "1.2.0",
            "_view_name": "LayoutView",
            "align_content": null,
            "align_items": null,
            "align_self": null,
            "border": null,
            "bottom": null,
            "display": null,
            "flex": null,
            "flex_flow": null,
            "grid_area": null,
            "grid_auto_columns": null,
            "grid_auto_flow": null,
            "grid_auto_rows": null,
            "grid_column": null,
            "grid_gap": null,
            "grid_row": null,
            "grid_template_areas": null,
            "grid_template_columns": null,
            "grid_template_rows": null,
            "height": null,
            "justify_content": null,
            "justify_items": null,
            "left": null,
            "margin": null,
            "max_height": null,
            "max_width": null,
            "min_height": null,
            "min_width": null,
            "object_fit": null,
            "object_position": null,
            "order": null,
            "overflow": null,
            "overflow_x": null,
            "overflow_y": null,
            "padding": null,
            "right": null,
            "top": null,
            "visibility": null,
            "width": null
          }
        },
        "473cef29689b4e0ab5d0419bf5149cd9": {
          "model_module": "@jupyter-widgets/controls",
          "model_name": "ProgressStyleModel",
          "model_module_version": "1.5.0",
          "state": {
            "_model_module": "@jupyter-widgets/controls",
            "_model_module_version": "1.5.0",
            "_model_name": "ProgressStyleModel",
            "_view_count": null,
            "_view_module": "@jupyter-widgets/base",
            "_view_module_version": "1.2.0",
            "_view_name": "StyleView",
            "bar_color": null,
            "description_width": ""
          }
        },
        "91834a70c8554fc3ace73575b79d74d2": {
          "model_module": "@jupyter-widgets/base",
          "model_name": "LayoutModel",
          "model_module_version": "1.2.0",
          "state": {
            "_model_module": "@jupyter-widgets/base",
            "_model_module_version": "1.2.0",
            "_model_name": "LayoutModel",
            "_view_count": null,
            "_view_module": "@jupyter-widgets/base",
            "_view_module_version": "1.2.0",
            "_view_name": "LayoutView",
            "align_content": null,
            "align_items": null,
            "align_self": null,
            "border": null,
            "bottom": null,
            "display": null,
            "flex": null,
            "flex_flow": null,
            "grid_area": null,
            "grid_auto_columns": null,
            "grid_auto_flow": null,
            "grid_auto_rows": null,
            "grid_column": null,
            "grid_gap": null,
            "grid_row": null,
            "grid_template_areas": null,
            "grid_template_columns": null,
            "grid_template_rows": null,
            "height": null,
            "justify_content": null,
            "justify_items": null,
            "left": null,
            "margin": null,
            "max_height": null,
            "max_width": null,
            "min_height": null,
            "min_width": null,
            "object_fit": null,
            "object_position": null,
            "order": null,
            "overflow": null,
            "overflow_x": null,
            "overflow_y": null,
            "padding": null,
            "right": null,
            "top": null,
            "visibility": null,
            "width": null
          }
        },
        "2863d879274e4172be8a727f60fc35f0": {
          "model_module": "@jupyter-widgets/controls",
          "model_name": "DescriptionStyleModel",
          "model_module_version": "1.5.0",
          "state": {
            "_model_module": "@jupyter-widgets/controls",
            "_model_module_version": "1.5.0",
            "_model_name": "DescriptionStyleModel",
            "_view_count": null,
            "_view_module": "@jupyter-widgets/base",
            "_view_module_version": "1.2.0",
            "_view_name": "StyleView",
            "description_width": ""
          }
        },
        "e4667d4438134329b16768263c2c2e72": {
          "model_module": "@jupyter-widgets/controls",
          "model_name": "HBoxModel",
          "model_module_version": "1.5.0",
          "state": {
            "_dom_classes": [],
            "_model_module": "@jupyter-widgets/controls",
            "_model_module_version": "1.5.0",
            "_model_name": "HBoxModel",
            "_view_count": null,
            "_view_module": "@jupyter-widgets/controls",
            "_view_module_version": "1.5.0",
            "_view_name": "HBoxView",
            "box_style": "",
            "children": [
              "IPY_MODEL_4151b13f319a46a882963227a0fd504a",
              "IPY_MODEL_e00f450b55a540d6b4117b524fc33903",
              "IPY_MODEL_a2811430ebb940d88af7a39d7511a0b0"
            ],
            "layout": "IPY_MODEL_afede56636d34f189974624e12a4ce1e"
          }
        },
        "4151b13f319a46a882963227a0fd504a": {
          "model_module": "@jupyter-widgets/controls",
          "model_name": "HTMLModel",
          "model_module_version": "1.5.0",
          "state": {
            "_dom_classes": [],
            "_model_module": "@jupyter-widgets/controls",
            "_model_module_version": "1.5.0",
            "_model_name": "HTMLModel",
            "_view_count": null,
            "_view_module": "@jupyter-widgets/controls",
            "_view_module_version": "1.5.0",
            "_view_name": "HTMLView",
            "description": "",
            "description_tooltip": null,
            "layout": "IPY_MODEL_6cdbd9c3d4184a0f80d65687dacdb866",
            "placeholder": "​",
            "style": "IPY_MODEL_36fa9f86cecd4401887696944f6cef6a",
            "value": "config.json: 100%"
          }
        },
        "e00f450b55a540d6b4117b524fc33903": {
          "model_module": "@jupyter-widgets/controls",
          "model_name": "FloatProgressModel",
          "model_module_version": "1.5.0",
          "state": {
            "_dom_classes": [],
            "_model_module": "@jupyter-widgets/controls",
            "_model_module_version": "1.5.0",
            "_model_name": "FloatProgressModel",
            "_view_count": null,
            "_view_module": "@jupyter-widgets/controls",
            "_view_module_version": "1.5.0",
            "_view_name": "ProgressView",
            "bar_style": "success",
            "description": "",
            "description_tooltip": null,
            "layout": "IPY_MODEL_c033869d84a247108803277dae3f7a7e",
            "max": 610,
            "min": 0,
            "orientation": "horizontal",
            "style": "IPY_MODEL_a893145e794d4a8fb7f82562e5e2c7d0",
            "value": 610
          }
        },
        "a2811430ebb940d88af7a39d7511a0b0": {
          "model_module": "@jupyter-widgets/controls",
          "model_name": "HTMLModel",
          "model_module_version": "1.5.0",
          "state": {
            "_dom_classes": [],
            "_model_module": "@jupyter-widgets/controls",
            "_model_module_version": "1.5.0",
            "_model_name": "HTMLModel",
            "_view_count": null,
            "_view_module": "@jupyter-widgets/controls",
            "_view_module_version": "1.5.0",
            "_view_name": "HTMLView",
            "description": "",
            "description_tooltip": null,
            "layout": "IPY_MODEL_536fde1cc2af4452a205f16202ba2529",
            "placeholder": "​",
            "style": "IPY_MODEL_6003bb6d7cd041f99bcc8b49c7a50984",
            "value": " 610/610 [00:00&lt;00:00, 12.9kB/s]"
          }
        },
        "afede56636d34f189974624e12a4ce1e": {
          "model_module": "@jupyter-widgets/base",
          "model_name": "LayoutModel",
          "model_module_version": "1.2.0",
          "state": {
            "_model_module": "@jupyter-widgets/base",
            "_model_module_version": "1.2.0",
            "_model_name": "LayoutModel",
            "_view_count": null,
            "_view_module": "@jupyter-widgets/base",
            "_view_module_version": "1.2.0",
            "_view_name": "LayoutView",
            "align_content": null,
            "align_items": null,
            "align_self": null,
            "border": null,
            "bottom": null,
            "display": null,
            "flex": null,
            "flex_flow": null,
            "grid_area": null,
            "grid_auto_columns": null,
            "grid_auto_flow": null,
            "grid_auto_rows": null,
            "grid_column": null,
            "grid_gap": null,
            "grid_row": null,
            "grid_template_areas": null,
            "grid_template_columns": null,
            "grid_template_rows": null,
            "height": null,
            "justify_content": null,
            "justify_items": null,
            "left": null,
            "margin": null,
            "max_height": null,
            "max_width": null,
            "min_height": null,
            "min_width": null,
            "object_fit": null,
            "object_position": null,
            "order": null,
            "overflow": null,
            "overflow_x": null,
            "overflow_y": null,
            "padding": null,
            "right": null,
            "top": null,
            "visibility": null,
            "width": null
          }
        },
        "6cdbd9c3d4184a0f80d65687dacdb866": {
          "model_module": "@jupyter-widgets/base",
          "model_name": "LayoutModel",
          "model_module_version": "1.2.0",
          "state": {
            "_model_module": "@jupyter-widgets/base",
            "_model_module_version": "1.2.0",
            "_model_name": "LayoutModel",
            "_view_count": null,
            "_view_module": "@jupyter-widgets/base",
            "_view_module_version": "1.2.0",
            "_view_name": "LayoutView",
            "align_content": null,
            "align_items": null,
            "align_self": null,
            "border": null,
            "bottom": null,
            "display": null,
            "flex": null,
            "flex_flow": null,
            "grid_area": null,
            "grid_auto_columns": null,
            "grid_auto_flow": null,
            "grid_auto_rows": null,
            "grid_column": null,
            "grid_gap": null,
            "grid_row": null,
            "grid_template_areas": null,
            "grid_template_columns": null,
            "grid_template_rows": null,
            "height": null,
            "justify_content": null,
            "justify_items": null,
            "left": null,
            "margin": null,
            "max_height": null,
            "max_width": null,
            "min_height": null,
            "min_width": null,
            "object_fit": null,
            "object_position": null,
            "order": null,
            "overflow": null,
            "overflow_x": null,
            "overflow_y": null,
            "padding": null,
            "right": null,
            "top": null,
            "visibility": null,
            "width": null
          }
        },
        "36fa9f86cecd4401887696944f6cef6a": {
          "model_module": "@jupyter-widgets/controls",
          "model_name": "DescriptionStyleModel",
          "model_module_version": "1.5.0",
          "state": {
            "_model_module": "@jupyter-widgets/controls",
            "_model_module_version": "1.5.0",
            "_model_name": "DescriptionStyleModel",
            "_view_count": null,
            "_view_module": "@jupyter-widgets/base",
            "_view_module_version": "1.2.0",
            "_view_name": "StyleView",
            "description_width": ""
          }
        },
        "c033869d84a247108803277dae3f7a7e": {
          "model_module": "@jupyter-widgets/base",
          "model_name": "LayoutModel",
          "model_module_version": "1.2.0",
          "state": {
            "_model_module": "@jupyter-widgets/base",
            "_model_module_version": "1.2.0",
            "_model_name": "LayoutModel",
            "_view_count": null,
            "_view_module": "@jupyter-widgets/base",
            "_view_module_version": "1.2.0",
            "_view_name": "LayoutView",
            "align_content": null,
            "align_items": null,
            "align_self": null,
            "border": null,
            "bottom": null,
            "display": null,
            "flex": null,
            "flex_flow": null,
            "grid_area": null,
            "grid_auto_columns": null,
            "grid_auto_flow": null,
            "grid_auto_rows": null,
            "grid_column": null,
            "grid_gap": null,
            "grid_row": null,
            "grid_template_areas": null,
            "grid_template_columns": null,
            "grid_template_rows": null,
            "height": null,
            "justify_content": null,
            "justify_items": null,
            "left": null,
            "margin": null,
            "max_height": null,
            "max_width": null,
            "min_height": null,
            "min_width": null,
            "object_fit": null,
            "object_position": null,
            "order": null,
            "overflow": null,
            "overflow_x": null,
            "overflow_y": null,
            "padding": null,
            "right": null,
            "top": null,
            "visibility": null,
            "width": null
          }
        },
        "a893145e794d4a8fb7f82562e5e2c7d0": {
          "model_module": "@jupyter-widgets/controls",
          "model_name": "ProgressStyleModel",
          "model_module_version": "1.5.0",
          "state": {
            "_model_module": "@jupyter-widgets/controls",
            "_model_module_version": "1.5.0",
            "_model_name": "ProgressStyleModel",
            "_view_count": null,
            "_view_module": "@jupyter-widgets/base",
            "_view_module_version": "1.2.0",
            "_view_name": "StyleView",
            "bar_color": null,
            "description_width": ""
          }
        },
        "536fde1cc2af4452a205f16202ba2529": {
          "model_module": "@jupyter-widgets/base",
          "model_name": "LayoutModel",
          "model_module_version": "1.2.0",
          "state": {
            "_model_module": "@jupyter-widgets/base",
            "_model_module_version": "1.2.0",
            "_model_name": "LayoutModel",
            "_view_count": null,
            "_view_module": "@jupyter-widgets/base",
            "_view_module_version": "1.2.0",
            "_view_name": "LayoutView",
            "align_content": null,
            "align_items": null,
            "align_self": null,
            "border": null,
            "bottom": null,
            "display": null,
            "flex": null,
            "flex_flow": null,
            "grid_area": null,
            "grid_auto_columns": null,
            "grid_auto_flow": null,
            "grid_auto_rows": null,
            "grid_column": null,
            "grid_gap": null,
            "grid_row": null,
            "grid_template_areas": null,
            "grid_template_columns": null,
            "grid_template_rows": null,
            "height": null,
            "justify_content": null,
            "justify_items": null,
            "left": null,
            "margin": null,
            "max_height": null,
            "max_width": null,
            "min_height": null,
            "min_width": null,
            "object_fit": null,
            "object_position": null,
            "order": null,
            "overflow": null,
            "overflow_x": null,
            "overflow_y": null,
            "padding": null,
            "right": null,
            "top": null,
            "visibility": null,
            "width": null
          }
        },
        "6003bb6d7cd041f99bcc8b49c7a50984": {
          "model_module": "@jupyter-widgets/controls",
          "model_name": "DescriptionStyleModel",
          "model_module_version": "1.5.0",
          "state": {
            "_model_module": "@jupyter-widgets/controls",
            "_model_module_version": "1.5.0",
            "_model_name": "DescriptionStyleModel",
            "_view_count": null,
            "_view_module": "@jupyter-widgets/base",
            "_view_module_version": "1.2.0",
            "_view_name": "StyleView",
            "description_width": ""
          }
        },
        "863b1cd962b9449a988a510784de003d": {
          "model_module": "@jupyter-widgets/controls",
          "model_name": "HBoxModel",
          "model_module_version": "1.5.0",
          "state": {
            "_dom_classes": [],
            "_model_module": "@jupyter-widgets/controls",
            "_model_module_version": "1.5.0",
            "_model_name": "HBoxModel",
            "_view_count": null,
            "_view_module": "@jupyter-widgets/controls",
            "_view_module_version": "1.5.0",
            "_view_name": "HBoxView",
            "box_style": "",
            "children": [
              "IPY_MODEL_1c8c733bc0224a1ca2beb94ce78de29a",
              "IPY_MODEL_d5b7c2bae55a44218bbe8a197f024047",
              "IPY_MODEL_478984c15c07476a994750a59d96cd93"
            ],
            "layout": "IPY_MODEL_1b4a31ff12ed4f83be283650f33969a3"
          }
        },
        "1c8c733bc0224a1ca2beb94ce78de29a": {
          "model_module": "@jupyter-widgets/controls",
          "model_name": "HTMLModel",
          "model_module_version": "1.5.0",
          "state": {
            "_dom_classes": [],
            "_model_module": "@jupyter-widgets/controls",
            "_model_module_version": "1.5.0",
            "_model_name": "HTMLModel",
            "_view_count": null,
            "_view_module": "@jupyter-widgets/controls",
            "_view_module_version": "1.5.0",
            "_view_name": "HTMLView",
            "description": "",
            "description_tooltip": null,
            "layout": "IPY_MODEL_26aed88cd0a948d1b380f6521e24e053",
            "placeholder": "​",
            "style": "IPY_MODEL_3b3e7fee8cb049a99d42ee9291090345",
            "value": "vocab.txt: 100%"
          }
        },
        "d5b7c2bae55a44218bbe8a197f024047": {
          "model_module": "@jupyter-widgets/controls",
          "model_name": "FloatProgressModel",
          "model_module_version": "1.5.0",
          "state": {
            "_dom_classes": [],
            "_model_module": "@jupyter-widgets/controls",
            "_model_module_version": "1.5.0",
            "_model_name": "FloatProgressModel",
            "_view_count": null,
            "_view_module": "@jupyter-widgets/controls",
            "_view_module_version": "1.5.0",
            "_view_name": "ProgressView",
            "bar_style": "success",
            "description": "",
            "description_tooltip": null,
            "layout": "IPY_MODEL_61eb0b02c63b4f7f86a7942a7c76f56f",
            "max": 995526,
            "min": 0,
            "orientation": "horizontal",
            "style": "IPY_MODEL_dd8827aa162847cb87a663f2a1d3b3cd",
            "value": 995526
          }
        },
        "478984c15c07476a994750a59d96cd93": {
          "model_module": "@jupyter-widgets/controls",
          "model_name": "HTMLModel",
          "model_module_version": "1.5.0",
          "state": {
            "_dom_classes": [],
            "_model_module": "@jupyter-widgets/controls",
            "_model_module_version": "1.5.0",
            "_model_name": "HTMLModel",
            "_view_count": null,
            "_view_module": "@jupyter-widgets/controls",
            "_view_module_version": "1.5.0",
            "_view_name": "HTMLView",
            "description": "",
            "description_tooltip": null,
            "layout": "IPY_MODEL_ac60543e741743f3b31db584998d8b2f",
            "placeholder": "​",
            "style": "IPY_MODEL_3ac6b7f825a84647af81f12fcc911404",
            "value": " 996k/996k [00:00&lt;00:00, 1.43MB/s]"
          }
        },
        "1b4a31ff12ed4f83be283650f33969a3": {
          "model_module": "@jupyter-widgets/base",
          "model_name": "LayoutModel",
          "model_module_version": "1.2.0",
          "state": {
            "_model_module": "@jupyter-widgets/base",
            "_model_module_version": "1.2.0",
            "_model_name": "LayoutModel",
            "_view_count": null,
            "_view_module": "@jupyter-widgets/base",
            "_view_module_version": "1.2.0",
            "_view_name": "LayoutView",
            "align_content": null,
            "align_items": null,
            "align_self": null,
            "border": null,
            "bottom": null,
            "display": null,
            "flex": null,
            "flex_flow": null,
            "grid_area": null,
            "grid_auto_columns": null,
            "grid_auto_flow": null,
            "grid_auto_rows": null,
            "grid_column": null,
            "grid_gap": null,
            "grid_row": null,
            "grid_template_areas": null,
            "grid_template_columns": null,
            "grid_template_rows": null,
            "height": null,
            "justify_content": null,
            "justify_items": null,
            "left": null,
            "margin": null,
            "max_height": null,
            "max_width": null,
            "min_height": null,
            "min_width": null,
            "object_fit": null,
            "object_position": null,
            "order": null,
            "overflow": null,
            "overflow_x": null,
            "overflow_y": null,
            "padding": null,
            "right": null,
            "top": null,
            "visibility": null,
            "width": null
          }
        },
        "26aed88cd0a948d1b380f6521e24e053": {
          "model_module": "@jupyter-widgets/base",
          "model_name": "LayoutModel",
          "model_module_version": "1.2.0",
          "state": {
            "_model_module": "@jupyter-widgets/base",
            "_model_module_version": "1.2.0",
            "_model_name": "LayoutModel",
            "_view_count": null,
            "_view_module": "@jupyter-widgets/base",
            "_view_module_version": "1.2.0",
            "_view_name": "LayoutView",
            "align_content": null,
            "align_items": null,
            "align_self": null,
            "border": null,
            "bottom": null,
            "display": null,
            "flex": null,
            "flex_flow": null,
            "grid_area": null,
            "grid_auto_columns": null,
            "grid_auto_flow": null,
            "grid_auto_rows": null,
            "grid_column": null,
            "grid_gap": null,
            "grid_row": null,
            "grid_template_areas": null,
            "grid_template_columns": null,
            "grid_template_rows": null,
            "height": null,
            "justify_content": null,
            "justify_items": null,
            "left": null,
            "margin": null,
            "max_height": null,
            "max_width": null,
            "min_height": null,
            "min_width": null,
            "object_fit": null,
            "object_position": null,
            "order": null,
            "overflow": null,
            "overflow_x": null,
            "overflow_y": null,
            "padding": null,
            "right": null,
            "top": null,
            "visibility": null,
            "width": null
          }
        },
        "3b3e7fee8cb049a99d42ee9291090345": {
          "model_module": "@jupyter-widgets/controls",
          "model_name": "DescriptionStyleModel",
          "model_module_version": "1.5.0",
          "state": {
            "_model_module": "@jupyter-widgets/controls",
            "_model_module_version": "1.5.0",
            "_model_name": "DescriptionStyleModel",
            "_view_count": null,
            "_view_module": "@jupyter-widgets/base",
            "_view_module_version": "1.2.0",
            "_view_name": "StyleView",
            "description_width": ""
          }
        },
        "61eb0b02c63b4f7f86a7942a7c76f56f": {
          "model_module": "@jupyter-widgets/base",
          "model_name": "LayoutModel",
          "model_module_version": "1.2.0",
          "state": {
            "_model_module": "@jupyter-widgets/base",
            "_model_module_version": "1.2.0",
            "_model_name": "LayoutModel",
            "_view_count": null,
            "_view_module": "@jupyter-widgets/base",
            "_view_module_version": "1.2.0",
            "_view_name": "LayoutView",
            "align_content": null,
            "align_items": null,
            "align_self": null,
            "border": null,
            "bottom": null,
            "display": null,
            "flex": null,
            "flex_flow": null,
            "grid_area": null,
            "grid_auto_columns": null,
            "grid_auto_flow": null,
            "grid_auto_rows": null,
            "grid_column": null,
            "grid_gap": null,
            "grid_row": null,
            "grid_template_areas": null,
            "grid_template_columns": null,
            "grid_template_rows": null,
            "height": null,
            "justify_content": null,
            "justify_items": null,
            "left": null,
            "margin": null,
            "max_height": null,
            "max_width": null,
            "min_height": null,
            "min_width": null,
            "object_fit": null,
            "object_position": null,
            "order": null,
            "overflow": null,
            "overflow_x": null,
            "overflow_y": null,
            "padding": null,
            "right": null,
            "top": null,
            "visibility": null,
            "width": null
          }
        },
        "dd8827aa162847cb87a663f2a1d3b3cd": {
          "model_module": "@jupyter-widgets/controls",
          "model_name": "ProgressStyleModel",
          "model_module_version": "1.5.0",
          "state": {
            "_model_module": "@jupyter-widgets/controls",
            "_model_module_version": "1.5.0",
            "_model_name": "ProgressStyleModel",
            "_view_count": null,
            "_view_module": "@jupyter-widgets/base",
            "_view_module_version": "1.2.0",
            "_view_name": "StyleView",
            "bar_color": null,
            "description_width": ""
          }
        },
        "ac60543e741743f3b31db584998d8b2f": {
          "model_module": "@jupyter-widgets/base",
          "model_name": "LayoutModel",
          "model_module_version": "1.2.0",
          "state": {
            "_model_module": "@jupyter-widgets/base",
            "_model_module_version": "1.2.0",
            "_model_name": "LayoutModel",
            "_view_count": null,
            "_view_module": "@jupyter-widgets/base",
            "_view_module_version": "1.2.0",
            "_view_name": "LayoutView",
            "align_content": null,
            "align_items": null,
            "align_self": null,
            "border": null,
            "bottom": null,
            "display": null,
            "flex": null,
            "flex_flow": null,
            "grid_area": null,
            "grid_auto_columns": null,
            "grid_auto_flow": null,
            "grid_auto_rows": null,
            "grid_column": null,
            "grid_gap": null,
            "grid_row": null,
            "grid_template_areas": null,
            "grid_template_columns": null,
            "grid_template_rows": null,
            "height": null,
            "justify_content": null,
            "justify_items": null,
            "left": null,
            "margin": null,
            "max_height": null,
            "max_width": null,
            "min_height": null,
            "min_width": null,
            "object_fit": null,
            "object_position": null,
            "order": null,
            "overflow": null,
            "overflow_x": null,
            "overflow_y": null,
            "padding": null,
            "right": null,
            "top": null,
            "visibility": null,
            "width": null
          }
        },
        "3ac6b7f825a84647af81f12fcc911404": {
          "model_module": "@jupyter-widgets/controls",
          "model_name": "DescriptionStyleModel",
          "model_module_version": "1.5.0",
          "state": {
            "_model_module": "@jupyter-widgets/controls",
            "_model_module_version": "1.5.0",
            "_model_name": "DescriptionStyleModel",
            "_view_count": null,
            "_view_module": "@jupyter-widgets/base",
            "_view_module_version": "1.2.0",
            "_view_name": "StyleView",
            "description_width": ""
          }
        },
        "06ec53700fc948e385d149cac3907f73": {
          "model_module": "@jupyter-widgets/controls",
          "model_name": "HBoxModel",
          "model_module_version": "1.5.0",
          "state": {
            "_dom_classes": [],
            "_model_module": "@jupyter-widgets/controls",
            "_model_module_version": "1.5.0",
            "_model_name": "HBoxModel",
            "_view_count": null,
            "_view_module": "@jupyter-widgets/controls",
            "_view_module_version": "1.5.0",
            "_view_name": "HBoxView",
            "box_style": "",
            "children": [
              "IPY_MODEL_fc08c39b93474e07a6112d52a9d11c15",
              "IPY_MODEL_38f4379da0f54c868a036991cbc2956c",
              "IPY_MODEL_dcbedaf040084b2fb947b9b7fcef0e6a"
            ],
            "layout": "IPY_MODEL_3e301d76144547d3aa2dfcd8de340ccc"
          }
        },
        "fc08c39b93474e07a6112d52a9d11c15": {
          "model_module": "@jupyter-widgets/controls",
          "model_name": "HTMLModel",
          "model_module_version": "1.5.0",
          "state": {
            "_dom_classes": [],
            "_model_module": "@jupyter-widgets/controls",
            "_model_module_version": "1.5.0",
            "_model_name": "HTMLModel",
            "_view_count": null,
            "_view_module": "@jupyter-widgets/controls",
            "_view_module_version": "1.5.0",
            "_view_name": "HTMLView",
            "description": "",
            "description_tooltip": null,
            "layout": "IPY_MODEL_3ad4e320fa454b43914aa7d819b326cd",
            "placeholder": "​",
            "style": "IPY_MODEL_de53127722d34de7ba8f11aa929046c4",
            "value": "tokenizer.json: 100%"
          }
        },
        "38f4379da0f54c868a036991cbc2956c": {
          "model_module": "@jupyter-widgets/controls",
          "model_name": "FloatProgressModel",
          "model_module_version": "1.5.0",
          "state": {
            "_dom_classes": [],
            "_model_module": "@jupyter-widgets/controls",
            "_model_module_version": "1.5.0",
            "_model_name": "FloatProgressModel",
            "_view_count": null,
            "_view_module": "@jupyter-widgets/controls",
            "_view_module_version": "1.5.0",
            "_view_name": "ProgressView",
            "bar_style": "success",
            "description": "",
            "description_tooltip": null,
            "layout": "IPY_MODEL_ba250a427947448eaa0699b980626b7f",
            "max": 1961847,
            "min": 0,
            "orientation": "horizontal",
            "style": "IPY_MODEL_ef8e5f4bbf524837b47562b1393c054d",
            "value": 1961847
          }
        },
        "dcbedaf040084b2fb947b9b7fcef0e6a": {
          "model_module": "@jupyter-widgets/controls",
          "model_name": "HTMLModel",
          "model_module_version": "1.5.0",
          "state": {
            "_dom_classes": [],
            "_model_module": "@jupyter-widgets/controls",
            "_model_module_version": "1.5.0",
            "_model_name": "HTMLModel",
            "_view_count": null,
            "_view_module": "@jupyter-widgets/controls",
            "_view_module_version": "1.5.0",
            "_view_name": "HTMLView",
            "description": "",
            "description_tooltip": null,
            "layout": "IPY_MODEL_2ca60c6ccb72457696ecafc8437c6b36",
            "placeholder": "​",
            "style": "IPY_MODEL_5a132c54eff54e19ab0b31378e4eab21",
            "value": " 1.96M/1.96M [00:00&lt;00:00, 2.31MB/s]"
          }
        },
        "3e301d76144547d3aa2dfcd8de340ccc": {
          "model_module": "@jupyter-widgets/base",
          "model_name": "LayoutModel",
          "model_module_version": "1.2.0",
          "state": {
            "_model_module": "@jupyter-widgets/base",
            "_model_module_version": "1.2.0",
            "_model_name": "LayoutModel",
            "_view_count": null,
            "_view_module": "@jupyter-widgets/base",
            "_view_module_version": "1.2.0",
            "_view_name": "LayoutView",
            "align_content": null,
            "align_items": null,
            "align_self": null,
            "border": null,
            "bottom": null,
            "display": null,
            "flex": null,
            "flex_flow": null,
            "grid_area": null,
            "grid_auto_columns": null,
            "grid_auto_flow": null,
            "grid_auto_rows": null,
            "grid_column": null,
            "grid_gap": null,
            "grid_row": null,
            "grid_template_areas": null,
            "grid_template_columns": null,
            "grid_template_rows": null,
            "height": null,
            "justify_content": null,
            "justify_items": null,
            "left": null,
            "margin": null,
            "max_height": null,
            "max_width": null,
            "min_height": null,
            "min_width": null,
            "object_fit": null,
            "object_position": null,
            "order": null,
            "overflow": null,
            "overflow_x": null,
            "overflow_y": null,
            "padding": null,
            "right": null,
            "top": null,
            "visibility": null,
            "width": null
          }
        },
        "3ad4e320fa454b43914aa7d819b326cd": {
          "model_module": "@jupyter-widgets/base",
          "model_name": "LayoutModel",
          "model_module_version": "1.2.0",
          "state": {
            "_model_module": "@jupyter-widgets/base",
            "_model_module_version": "1.2.0",
            "_model_name": "LayoutModel",
            "_view_count": null,
            "_view_module": "@jupyter-widgets/base",
            "_view_module_version": "1.2.0",
            "_view_name": "LayoutView",
            "align_content": null,
            "align_items": null,
            "align_self": null,
            "border": null,
            "bottom": null,
            "display": null,
            "flex": null,
            "flex_flow": null,
            "grid_area": null,
            "grid_auto_columns": null,
            "grid_auto_flow": null,
            "grid_auto_rows": null,
            "grid_column": null,
            "grid_gap": null,
            "grid_row": null,
            "grid_template_areas": null,
            "grid_template_columns": null,
            "grid_template_rows": null,
            "height": null,
            "justify_content": null,
            "justify_items": null,
            "left": null,
            "margin": null,
            "max_height": null,
            "max_width": null,
            "min_height": null,
            "min_width": null,
            "object_fit": null,
            "object_position": null,
            "order": null,
            "overflow": null,
            "overflow_x": null,
            "overflow_y": null,
            "padding": null,
            "right": null,
            "top": null,
            "visibility": null,
            "width": null
          }
        },
        "de53127722d34de7ba8f11aa929046c4": {
          "model_module": "@jupyter-widgets/controls",
          "model_name": "DescriptionStyleModel",
          "model_module_version": "1.5.0",
          "state": {
            "_model_module": "@jupyter-widgets/controls",
            "_model_module_version": "1.5.0",
            "_model_name": "DescriptionStyleModel",
            "_view_count": null,
            "_view_module": "@jupyter-widgets/base",
            "_view_module_version": "1.2.0",
            "_view_name": "StyleView",
            "description_width": ""
          }
        },
        "ba250a427947448eaa0699b980626b7f": {
          "model_module": "@jupyter-widgets/base",
          "model_name": "LayoutModel",
          "model_module_version": "1.2.0",
          "state": {
            "_model_module": "@jupyter-widgets/base",
            "_model_module_version": "1.2.0",
            "_model_name": "LayoutModel",
            "_view_count": null,
            "_view_module": "@jupyter-widgets/base",
            "_view_module_version": "1.2.0",
            "_view_name": "LayoutView",
            "align_content": null,
            "align_items": null,
            "align_self": null,
            "border": null,
            "bottom": null,
            "display": null,
            "flex": null,
            "flex_flow": null,
            "grid_area": null,
            "grid_auto_columns": null,
            "grid_auto_flow": null,
            "grid_auto_rows": null,
            "grid_column": null,
            "grid_gap": null,
            "grid_row": null,
            "grid_template_areas": null,
            "grid_template_columns": null,
            "grid_template_rows": null,
            "height": null,
            "justify_content": null,
            "justify_items": null,
            "left": null,
            "margin": null,
            "max_height": null,
            "max_width": null,
            "min_height": null,
            "min_width": null,
            "object_fit": null,
            "object_position": null,
            "order": null,
            "overflow": null,
            "overflow_x": null,
            "overflow_y": null,
            "padding": null,
            "right": null,
            "top": null,
            "visibility": null,
            "width": null
          }
        },
        "ef8e5f4bbf524837b47562b1393c054d": {
          "model_module": "@jupyter-widgets/controls",
          "model_name": "ProgressStyleModel",
          "model_module_version": "1.5.0",
          "state": {
            "_model_module": "@jupyter-widgets/controls",
            "_model_module_version": "1.5.0",
            "_model_name": "ProgressStyleModel",
            "_view_count": null,
            "_view_module": "@jupyter-widgets/base",
            "_view_module_version": "1.2.0",
            "_view_name": "StyleView",
            "bar_color": null,
            "description_width": ""
          }
        },
        "2ca60c6ccb72457696ecafc8437c6b36": {
          "model_module": "@jupyter-widgets/base",
          "model_name": "LayoutModel",
          "model_module_version": "1.2.0",
          "state": {
            "_model_module": "@jupyter-widgets/base",
            "_model_module_version": "1.2.0",
            "_model_name": "LayoutModel",
            "_view_count": null,
            "_view_module": "@jupyter-widgets/base",
            "_view_module_version": "1.2.0",
            "_view_name": "LayoutView",
            "align_content": null,
            "align_items": null,
            "align_self": null,
            "border": null,
            "bottom": null,
            "display": null,
            "flex": null,
            "flex_flow": null,
            "grid_area": null,
            "grid_auto_columns": null,
            "grid_auto_flow": null,
            "grid_auto_rows": null,
            "grid_column": null,
            "grid_gap": null,
            "grid_row": null,
            "grid_template_areas": null,
            "grid_template_columns": null,
            "grid_template_rows": null,
            "height": null,
            "justify_content": null,
            "justify_items": null,
            "left": null,
            "margin": null,
            "max_height": null,
            "max_width": null,
            "min_height": null,
            "min_width": null,
            "object_fit": null,
            "object_position": null,
            "order": null,
            "overflow": null,
            "overflow_x": null,
            "overflow_y": null,
            "padding": null,
            "right": null,
            "top": null,
            "visibility": null,
            "width": null
          }
        },
        "5a132c54eff54e19ab0b31378e4eab21": {
          "model_module": "@jupyter-widgets/controls",
          "model_name": "DescriptionStyleModel",
          "model_module_version": "1.5.0",
          "state": {
            "_model_module": "@jupyter-widgets/controls",
            "_model_module_version": "1.5.0",
            "_model_name": "DescriptionStyleModel",
            "_view_count": null,
            "_view_module": "@jupyter-widgets/base",
            "_view_module_version": "1.2.0",
            "_view_name": "StyleView",
            "description_width": ""
          }
        },
        "23585d09eeee47a48d02badeff281ae0": {
          "model_module": "@jupyter-widgets/controls",
          "model_name": "HBoxModel",
          "model_module_version": "1.5.0",
          "state": {
            "_dom_classes": [],
            "_model_module": "@jupyter-widgets/controls",
            "_model_module_version": "1.5.0",
            "_model_name": "HBoxModel",
            "_view_count": null,
            "_view_module": "@jupyter-widgets/controls",
            "_view_module_version": "1.5.0",
            "_view_name": "HBoxView",
            "box_style": "",
            "children": [
              "IPY_MODEL_96160a8f80694401bd7842107875b939",
              "IPY_MODEL_3678af90a553479b945132988e029ade",
              "IPY_MODEL_6bd512a53f214968813c779d1ea1cf44"
            ],
            "layout": "IPY_MODEL_3d393546d8e940b1853d88160c27f6c9"
          }
        },
        "96160a8f80694401bd7842107875b939": {
          "model_module": "@jupyter-widgets/controls",
          "model_name": "HTMLModel",
          "model_module_version": "1.5.0",
          "state": {
            "_dom_classes": [],
            "_model_module": "@jupyter-widgets/controls",
            "_model_module_version": "1.5.0",
            "_model_name": "HTMLModel",
            "_view_count": null,
            "_view_module": "@jupyter-widgets/controls",
            "_view_module_version": "1.5.0",
            "_view_name": "HTMLView",
            "description": "",
            "description_tooltip": null,
            "layout": "IPY_MODEL_6d5de0779ea9463089fed0ac1bb107d5",
            "placeholder": "​",
            "style": "IPY_MODEL_4d39d6e338cb4eaf9fa5026a6544cbc0",
            "value": "special_tokens_map.json: 100%"
          }
        },
        "3678af90a553479b945132988e029ade": {
          "model_module": "@jupyter-widgets/controls",
          "model_name": "FloatProgressModel",
          "model_module_version": "1.5.0",
          "state": {
            "_dom_classes": [],
            "_model_module": "@jupyter-widgets/controls",
            "_model_module_version": "1.5.0",
            "_model_name": "FloatProgressModel",
            "_view_count": null,
            "_view_module": "@jupyter-widgets/controls",
            "_view_module_version": "1.5.0",
            "_view_name": "ProgressView",
            "bar_style": "success",
            "description": "",
            "description_tooltip": null,
            "layout": "IPY_MODEL_d10f71c7167742c6b9e2d03ac287a240",
            "max": 112,
            "min": 0,
            "orientation": "horizontal",
            "style": "IPY_MODEL_d08118ae03e8438d86feba1feea92158",
            "value": 112
          }
        },
        "6bd512a53f214968813c779d1ea1cf44": {
          "model_module": "@jupyter-widgets/controls",
          "model_name": "HTMLModel",
          "model_module_version": "1.5.0",
          "state": {
            "_dom_classes": [],
            "_model_module": "@jupyter-widgets/controls",
            "_model_module_version": "1.5.0",
            "_model_name": "HTMLModel",
            "_view_count": null,
            "_view_module": "@jupyter-widgets/controls",
            "_view_module_version": "1.5.0",
            "_view_name": "HTMLView",
            "description": "",
            "description_tooltip": null,
            "layout": "IPY_MODEL_88b0cea68bc840198bd02825a94d48bf",
            "placeholder": "​",
            "style": "IPY_MODEL_e8bbeec88e3c4f5e9ca16be702da2dcb",
            "value": " 112/112 [00:00&lt;00:00, 4.95kB/s]"
          }
        },
        "3d393546d8e940b1853d88160c27f6c9": {
          "model_module": "@jupyter-widgets/base",
          "model_name": "LayoutModel",
          "model_module_version": "1.2.0",
          "state": {
            "_model_module": "@jupyter-widgets/base",
            "_model_module_version": "1.2.0",
            "_model_name": "LayoutModel",
            "_view_count": null,
            "_view_module": "@jupyter-widgets/base",
            "_view_module_version": "1.2.0",
            "_view_name": "LayoutView",
            "align_content": null,
            "align_items": null,
            "align_self": null,
            "border": null,
            "bottom": null,
            "display": null,
            "flex": null,
            "flex_flow": null,
            "grid_area": null,
            "grid_auto_columns": null,
            "grid_auto_flow": null,
            "grid_auto_rows": null,
            "grid_column": null,
            "grid_gap": null,
            "grid_row": null,
            "grid_template_areas": null,
            "grid_template_columns": null,
            "grid_template_rows": null,
            "height": null,
            "justify_content": null,
            "justify_items": null,
            "left": null,
            "margin": null,
            "max_height": null,
            "max_width": null,
            "min_height": null,
            "min_width": null,
            "object_fit": null,
            "object_position": null,
            "order": null,
            "overflow": null,
            "overflow_x": null,
            "overflow_y": null,
            "padding": null,
            "right": null,
            "top": null,
            "visibility": null,
            "width": null
          }
        },
        "6d5de0779ea9463089fed0ac1bb107d5": {
          "model_module": "@jupyter-widgets/base",
          "model_name": "LayoutModel",
          "model_module_version": "1.2.0",
          "state": {
            "_model_module": "@jupyter-widgets/base",
            "_model_module_version": "1.2.0",
            "_model_name": "LayoutModel",
            "_view_count": null,
            "_view_module": "@jupyter-widgets/base",
            "_view_module_version": "1.2.0",
            "_view_name": "LayoutView",
            "align_content": null,
            "align_items": null,
            "align_self": null,
            "border": null,
            "bottom": null,
            "display": null,
            "flex": null,
            "flex_flow": null,
            "grid_area": null,
            "grid_auto_columns": null,
            "grid_auto_flow": null,
            "grid_auto_rows": null,
            "grid_column": null,
            "grid_gap": null,
            "grid_row": null,
            "grid_template_areas": null,
            "grid_template_columns": null,
            "grid_template_rows": null,
            "height": null,
            "justify_content": null,
            "justify_items": null,
            "left": null,
            "margin": null,
            "max_height": null,
            "max_width": null,
            "min_height": null,
            "min_width": null,
            "object_fit": null,
            "object_position": null,
            "order": null,
            "overflow": null,
            "overflow_x": null,
            "overflow_y": null,
            "padding": null,
            "right": null,
            "top": null,
            "visibility": null,
            "width": null
          }
        },
        "4d39d6e338cb4eaf9fa5026a6544cbc0": {
          "model_module": "@jupyter-widgets/controls",
          "model_name": "DescriptionStyleModel",
          "model_module_version": "1.5.0",
          "state": {
            "_model_module": "@jupyter-widgets/controls",
            "_model_module_version": "1.5.0",
            "_model_name": "DescriptionStyleModel",
            "_view_count": null,
            "_view_module": "@jupyter-widgets/base",
            "_view_module_version": "1.2.0",
            "_view_name": "StyleView",
            "description_width": ""
          }
        },
        "d10f71c7167742c6b9e2d03ac287a240": {
          "model_module": "@jupyter-widgets/base",
          "model_name": "LayoutModel",
          "model_module_version": "1.2.0",
          "state": {
            "_model_module": "@jupyter-widgets/base",
            "_model_module_version": "1.2.0",
            "_model_name": "LayoutModel",
            "_view_count": null,
            "_view_module": "@jupyter-widgets/base",
            "_view_module_version": "1.2.0",
            "_view_name": "LayoutView",
            "align_content": null,
            "align_items": null,
            "align_self": null,
            "border": null,
            "bottom": null,
            "display": null,
            "flex": null,
            "flex_flow": null,
            "grid_area": null,
            "grid_auto_columns": null,
            "grid_auto_flow": null,
            "grid_auto_rows": null,
            "grid_column": null,
            "grid_gap": null,
            "grid_row": null,
            "grid_template_areas": null,
            "grid_template_columns": null,
            "grid_template_rows": null,
            "height": null,
            "justify_content": null,
            "justify_items": null,
            "left": null,
            "margin": null,
            "max_height": null,
            "max_width": null,
            "min_height": null,
            "min_width": null,
            "object_fit": null,
            "object_position": null,
            "order": null,
            "overflow": null,
            "overflow_x": null,
            "overflow_y": null,
            "padding": null,
            "right": null,
            "top": null,
            "visibility": null,
            "width": null
          }
        },
        "d08118ae03e8438d86feba1feea92158": {
          "model_module": "@jupyter-widgets/controls",
          "model_name": "ProgressStyleModel",
          "model_module_version": "1.5.0",
          "state": {
            "_model_module": "@jupyter-widgets/controls",
            "_model_module_version": "1.5.0",
            "_model_name": "ProgressStyleModel",
            "_view_count": null,
            "_view_module": "@jupyter-widgets/base",
            "_view_module_version": "1.2.0",
            "_view_name": "StyleView",
            "bar_color": null,
            "description_width": ""
          }
        },
        "88b0cea68bc840198bd02825a94d48bf": {
          "model_module": "@jupyter-widgets/base",
          "model_name": "LayoutModel",
          "model_module_version": "1.2.0",
          "state": {
            "_model_module": "@jupyter-widgets/base",
            "_model_module_version": "1.2.0",
            "_model_name": "LayoutModel",
            "_view_count": null,
            "_view_module": "@jupyter-widgets/base",
            "_view_module_version": "1.2.0",
            "_view_name": "LayoutView",
            "align_content": null,
            "align_items": null,
            "align_self": null,
            "border": null,
            "bottom": null,
            "display": null,
            "flex": null,
            "flex_flow": null,
            "grid_area": null,
            "grid_auto_columns": null,
            "grid_auto_flow": null,
            "grid_auto_rows": null,
            "grid_column": null,
            "grid_gap": null,
            "grid_row": null,
            "grid_template_areas": null,
            "grid_template_columns": null,
            "grid_template_rows": null,
            "height": null,
            "justify_content": null,
            "justify_items": null,
            "left": null,
            "margin": null,
            "max_height": null,
            "max_width": null,
            "min_height": null,
            "min_width": null,
            "object_fit": null,
            "object_position": null,
            "order": null,
            "overflow": null,
            "overflow_x": null,
            "overflow_y": null,
            "padding": null,
            "right": null,
            "top": null,
            "visibility": null,
            "width": null
          }
        },
        "e8bbeec88e3c4f5e9ca16be702da2dcb": {
          "model_module": "@jupyter-widgets/controls",
          "model_name": "DescriptionStyleModel",
          "model_module_version": "1.5.0",
          "state": {
            "_model_module": "@jupyter-widgets/controls",
            "_model_module_version": "1.5.0",
            "_model_name": "DescriptionStyleModel",
            "_view_count": null,
            "_view_module": "@jupyter-widgets/base",
            "_view_module_version": "1.2.0",
            "_view_name": "StyleView",
            "description_width": ""
          }
        },
        "f639879c54ca42089ac59f4e52319113": {
          "model_module": "@jupyter-widgets/controls",
          "model_name": "HBoxModel",
          "model_module_version": "1.5.0",
          "state": {
            "_dom_classes": [],
            "_model_module": "@jupyter-widgets/controls",
            "_model_module_version": "1.5.0",
            "_model_name": "HBoxModel",
            "_view_count": null,
            "_view_module": "@jupyter-widgets/controls",
            "_view_module_version": "1.5.0",
            "_view_name": "HBoxView",
            "box_style": "",
            "children": [
              "IPY_MODEL_11eba6a66bb64d5caa5d93ac2a68d739",
              "IPY_MODEL_ad48eb85c3344693bdb86d5b9945b3ba",
              "IPY_MODEL_4b80d0e913324234886e343c9693a4da"
            ],
            "layout": "IPY_MODEL_398f1416743341c6bf878e81e2f384ee"
          }
        },
        "11eba6a66bb64d5caa5d93ac2a68d739": {
          "model_module": "@jupyter-widgets/controls",
          "model_name": "HTMLModel",
          "model_module_version": "1.5.0",
          "state": {
            "_dom_classes": [],
            "_model_module": "@jupyter-widgets/controls",
            "_model_module_version": "1.5.0",
            "_model_name": "HTMLModel",
            "_view_count": null,
            "_view_module": "@jupyter-widgets/controls",
            "_view_module_version": "1.5.0",
            "_view_name": "HTMLView",
            "description": "",
            "description_tooltip": null,
            "layout": "IPY_MODEL_7a68017a4db14cfbb4c062f4f511ae7a",
            "placeholder": "​",
            "style": "IPY_MODEL_725fe611c9c5486cad416f355b4a5daf",
            "value": "model.safetensors: 100%"
          }
        },
        "ad48eb85c3344693bdb86d5b9945b3ba": {
          "model_module": "@jupyter-widgets/controls",
          "model_name": "FloatProgressModel",
          "model_module_version": "1.5.0",
          "state": {
            "_dom_classes": [],
            "_model_module": "@jupyter-widgets/controls",
            "_model_module_version": "1.5.0",
            "_model_name": "FloatProgressModel",
            "_view_count": null,
            "_view_module": "@jupyter-widgets/controls",
            "_view_module_version": "1.5.0",
            "_view_name": "ProgressView",
            "bar_style": "success",
            "description": "",
            "description_tooltip": null,
            "layout": "IPY_MODEL_b380a0f2abcb4faaa863a53989672845",
            "max": 538947416,
            "min": 0,
            "orientation": "horizontal",
            "style": "IPY_MODEL_b13eec763dcb4e81a6d1431e913f8941",
            "value": 538947416
          }
        },
        "4b80d0e913324234886e343c9693a4da": {
          "model_module": "@jupyter-widgets/controls",
          "model_name": "HTMLModel",
          "model_module_version": "1.5.0",
          "state": {
            "_dom_classes": [],
            "_model_module": "@jupyter-widgets/controls",
            "_model_module_version": "1.5.0",
            "_model_name": "HTMLModel",
            "_view_count": null,
            "_view_module": "@jupyter-widgets/controls",
            "_view_module_version": "1.5.0",
            "_view_name": "HTMLView",
            "description": "",
            "description_tooltip": null,
            "layout": "IPY_MODEL_7d6b9bc67f334db69775a6cfbdb56e91",
            "placeholder": "​",
            "style": "IPY_MODEL_01142be452e34f1ab3f2d66d98156241",
            "value": " 539M/539M [00:04&lt;00:00, 176MB/s]"
          }
        },
        "398f1416743341c6bf878e81e2f384ee": {
          "model_module": "@jupyter-widgets/base",
          "model_name": "LayoutModel",
          "model_module_version": "1.2.0",
          "state": {
            "_model_module": "@jupyter-widgets/base",
            "_model_module_version": "1.2.0",
            "_model_name": "LayoutModel",
            "_view_count": null,
            "_view_module": "@jupyter-widgets/base",
            "_view_module_version": "1.2.0",
            "_view_name": "LayoutView",
            "align_content": null,
            "align_items": null,
            "align_self": null,
            "border": null,
            "bottom": null,
            "display": null,
            "flex": null,
            "flex_flow": null,
            "grid_area": null,
            "grid_auto_columns": null,
            "grid_auto_flow": null,
            "grid_auto_rows": null,
            "grid_column": null,
            "grid_gap": null,
            "grid_row": null,
            "grid_template_areas": null,
            "grid_template_columns": null,
            "grid_template_rows": null,
            "height": null,
            "justify_content": null,
            "justify_items": null,
            "left": null,
            "margin": null,
            "max_height": null,
            "max_width": null,
            "min_height": null,
            "min_width": null,
            "object_fit": null,
            "object_position": null,
            "order": null,
            "overflow": null,
            "overflow_x": null,
            "overflow_y": null,
            "padding": null,
            "right": null,
            "top": null,
            "visibility": null,
            "width": null
          }
        },
        "7a68017a4db14cfbb4c062f4f511ae7a": {
          "model_module": "@jupyter-widgets/base",
          "model_name": "LayoutModel",
          "model_module_version": "1.2.0",
          "state": {
            "_model_module": "@jupyter-widgets/base",
            "_model_module_version": "1.2.0",
            "_model_name": "LayoutModel",
            "_view_count": null,
            "_view_module": "@jupyter-widgets/base",
            "_view_module_version": "1.2.0",
            "_view_name": "LayoutView",
            "align_content": null,
            "align_items": null,
            "align_self": null,
            "border": null,
            "bottom": null,
            "display": null,
            "flex": null,
            "flex_flow": null,
            "grid_area": null,
            "grid_auto_columns": null,
            "grid_auto_flow": null,
            "grid_auto_rows": null,
            "grid_column": null,
            "grid_gap": null,
            "grid_row": null,
            "grid_template_areas": null,
            "grid_template_columns": null,
            "grid_template_rows": null,
            "height": null,
            "justify_content": null,
            "justify_items": null,
            "left": null,
            "margin": null,
            "max_height": null,
            "max_width": null,
            "min_height": null,
            "min_width": null,
            "object_fit": null,
            "object_position": null,
            "order": null,
            "overflow": null,
            "overflow_x": null,
            "overflow_y": null,
            "padding": null,
            "right": null,
            "top": null,
            "visibility": null,
            "width": null
          }
        },
        "725fe611c9c5486cad416f355b4a5daf": {
          "model_module": "@jupyter-widgets/controls",
          "model_name": "DescriptionStyleModel",
          "model_module_version": "1.5.0",
          "state": {
            "_model_module": "@jupyter-widgets/controls",
            "_model_module_version": "1.5.0",
            "_model_name": "DescriptionStyleModel",
            "_view_count": null,
            "_view_module": "@jupyter-widgets/base",
            "_view_module_version": "1.2.0",
            "_view_name": "StyleView",
            "description_width": ""
          }
        },
        "b380a0f2abcb4faaa863a53989672845": {
          "model_module": "@jupyter-widgets/base",
          "model_name": "LayoutModel",
          "model_module_version": "1.2.0",
          "state": {
            "_model_module": "@jupyter-widgets/base",
            "_model_module_version": "1.2.0",
            "_model_name": "LayoutModel",
            "_view_count": null,
            "_view_module": "@jupyter-widgets/base",
            "_view_module_version": "1.2.0",
            "_view_name": "LayoutView",
            "align_content": null,
            "align_items": null,
            "align_self": null,
            "border": null,
            "bottom": null,
            "display": null,
            "flex": null,
            "flex_flow": null,
            "grid_area": null,
            "grid_auto_columns": null,
            "grid_auto_flow": null,
            "grid_auto_rows": null,
            "grid_column": null,
            "grid_gap": null,
            "grid_row": null,
            "grid_template_areas": null,
            "grid_template_columns": null,
            "grid_template_rows": null,
            "height": null,
            "justify_content": null,
            "justify_items": null,
            "left": null,
            "margin": null,
            "max_height": null,
            "max_width": null,
            "min_height": null,
            "min_width": null,
            "object_fit": null,
            "object_position": null,
            "order": null,
            "overflow": null,
            "overflow_x": null,
            "overflow_y": null,
            "padding": null,
            "right": null,
            "top": null,
            "visibility": null,
            "width": null
          }
        },
        "b13eec763dcb4e81a6d1431e913f8941": {
          "model_module": "@jupyter-widgets/controls",
          "model_name": "ProgressStyleModel",
          "model_module_version": "1.5.0",
          "state": {
            "_model_module": "@jupyter-widgets/controls",
            "_model_module_version": "1.5.0",
            "_model_name": "ProgressStyleModel",
            "_view_count": null,
            "_view_module": "@jupyter-widgets/base",
            "_view_module_version": "1.2.0",
            "_view_name": "StyleView",
            "bar_color": null,
            "description_width": ""
          }
        },
        "7d6b9bc67f334db69775a6cfbdb56e91": {
          "model_module": "@jupyter-widgets/base",
          "model_name": "LayoutModel",
          "model_module_version": "1.2.0",
          "state": {
            "_model_module": "@jupyter-widgets/base",
            "_model_module_version": "1.2.0",
            "_model_name": "LayoutModel",
            "_view_count": null,
            "_view_module": "@jupyter-widgets/base",
            "_view_module_version": "1.2.0",
            "_view_name": "LayoutView",
            "align_content": null,
            "align_items": null,
            "align_self": null,
            "border": null,
            "bottom": null,
            "display": null,
            "flex": null,
            "flex_flow": null,
            "grid_area": null,
            "grid_auto_columns": null,
            "grid_auto_flow": null,
            "grid_auto_rows": null,
            "grid_column": null,
            "grid_gap": null,
            "grid_row": null,
            "grid_template_areas": null,
            "grid_template_columns": null,
            "grid_template_rows": null,
            "height": null,
            "justify_content": null,
            "justify_items": null,
            "left": null,
            "margin": null,
            "max_height": null,
            "max_width": null,
            "min_height": null,
            "min_width": null,
            "object_fit": null,
            "object_position": null,
            "order": null,
            "overflow": null,
            "overflow_x": null,
            "overflow_y": null,
            "padding": null,
            "right": null,
            "top": null,
            "visibility": null,
            "width": null
          }
        },
        "01142be452e34f1ab3f2d66d98156241": {
          "model_module": "@jupyter-widgets/controls",
          "model_name": "DescriptionStyleModel",
          "model_module_version": "1.5.0",
          "state": {
            "_model_module": "@jupyter-widgets/controls",
            "_model_module_version": "1.5.0",
            "_model_name": "DescriptionStyleModel",
            "_view_count": null,
            "_view_module": "@jupyter-widgets/base",
            "_view_module_version": "1.2.0",
            "_view_name": "StyleView",
            "description_width": ""
          }
        }
      }
    }
  },
  "nbformat": 4,
  "nbformat_minor": 0
}